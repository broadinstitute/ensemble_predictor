{
 "cells": [
  {
   "cell_type": "markdown",
   "metadata": {},
   "source": [
    "# README"
   ]
  },
  {
   "cell_type": "markdown",
   "metadata": {},
   "source": [
    "This jupyter notebook supports the publication [Gene expression has more power for predicting in vitro cancer cell vulnerabilities than genomics](https://www.biorxiv.org/content/10.1101/2020.02.21.959627v3) by Dempster et al., currently available as a preprint. In addition to Jupyter, it requires a python3 kernel with h5py, matplotlib, seaborn, numpy, pandas, scipy, sklearn, and statsmodels installed. Pandas versions after 0.21 may raise missing label errors with .loc.\n",
    "\n",
    "This script also requires the supplementary data for the manuscript be downloaded from fighshare and unzipped into a local directory. Make sure to edit the cell at 4.1: Setup Directories so the figshare variable points to this directory.\n",
    "\n",
    "If you start by running sections 1-4, you should be able to run any of the other sections independently in any order. However, this isn't guaranteed. To run the last section (discussion question), you will also need supplementary table 2 from [Iorio et. al. (2016)](https://doi.org/10.1016/j.cell.2016.06.017) saved locally as a csv."
   ]
  },
  {
   "cell_type": "markdown",
   "metadata": {},
   "source": [
    "# Imports"
   ]
  },
  {
   "cell_type": "code",
   "execution_count": 1,
   "metadata": {},
   "outputs": [
    {
     "data": {
      "text/html": [
       "<style>.container { width:55% !important;    } div.output_wrapper .output { padding-left: 14px; }</style>"
      ],
      "text/plain": [
       "<IPython.core.display.HTML object>"
      ]
     },
     "metadata": {},
     "output_type": "display_data"
    }
   ],
   "source": [
    "from IPython.core.display import display, HTML \n",
    "display(HTML(\n",
    "    \"<style>.container { width:55% !important;\\\n",
    "    } div.output_wrapper .output { padding-left: 14px; }</style>\"\n",
    "))"
   ]
  },
  {
   "cell_type": "code",
   "execution_count": 2,
   "metadata": {},
   "outputs": [
    {
     "name": "stderr",
     "output_type": "stream",
     "text": [
      "/usr/local/lib/python3.6/site-packages/sklearn/ensemble/weight_boosting.py:29: DeprecationWarning: numpy.core.umath_tests is an internal NumPy module and should not be imported. It will be removed in a future NumPy release.\n",
      "  from numpy.core.umath_tests import inner1d\n"
     ]
    }
   ],
   "source": [
    "#utility\n",
    "import os\n",
    "from os.path import join\n",
    "import copy\n",
    "import h5py\n",
    "\n",
    "#data\n",
    "import numpy as np\n",
    "import pandas as pd\n",
    "\n",
    "#plotting\n",
    "import seaborn as sns\n",
    "from matplotlib import pyplot as plt\n",
    "from matplotlib.lines import Line2D\n",
    "from matplotlib.colors import LinearSegmentedColormap, LogNorm\n",
    "from matplotlib import cm\n",
    "from matplotlib.cm import ScalarMappable\n",
    "from matplotlib.ticker import FormatStrFormatter\n",
    "import graphviz\n",
    "from graphviz import Source\n",
    "from adjustText import adjust_text\n",
    "sns.set_style({'figure.facecolor': 'white'})\n",
    "%matplotlib inline\n",
    "\n",
    "#statistics and ML\n",
    "from scipy.stats import pearsonr, spearmanr, gaussian_kde, ttest_ind\n",
    "from sklearn.ensemble import RandomForestRegressor\n",
    "from sklearn.linear_model import LinearRegression\n",
    "from sklearn.tree import DecisionTreeClassifier, DecisionTreeRegressor, export_graphviz\n",
    "from sklearn.model_selection import KFold\n",
    "from statsmodels.stats.multitest import fdrcorrection"
   ]
  },
  {
   "cell_type": "markdown",
   "metadata": {},
   "source": [
    "# Utility Functions"
   ]
  },
  {
   "cell_type": "code",
   "execution_count": 3,
   "metadata": {},
   "outputs": [],
   "source": [
    "def binplot(x, y, binned_axis='x', nbins=10, endpoints=None, right=False, axis=None, colors=None, \n",
    "            cbar_label='Number Samples', **kwargs):\n",
    "    '''\n",
    "    creates a plot with values binned into boxes along one axis. \n",
    "    Params:\n",
    "        x: iterable of numbers indicating position on x axis\n",
    "        y: iterable of numbers indicating position on y axis. \n",
    "        binned_axis (str): 'x' or 'y', the axis to bin ('x' default)\n",
    "        nbins (int): number of discrete bins that will be created\n",
    "        endpoints (None or tuple of two numbers): The right/top edge of the first bin and the left/bottom edge of the last bin. If provided,\n",
    "                the first and last bins will include points in [-infinity, endpoints[0]] and [endpoints[1], +infinity] respectively. Other bins\n",
    "                will be evenly spaced between them. If endpoints is None (default), bins will be evenly spaced between the minimum and maximum\n",
    "                data points.\n",
    "        right (bool): whether points falling on an edge are included in the left or right bin.\n",
    "        axis (None or pyplot.Axis): axis to draw plot on (default or None draws to current axis)\n",
    "        colors (None or str or iterable of RGBA values): color palette used to color the bins\n",
    "    Additional keyword arguments are passed to pyplot.boxplot.\n",
    "    '''\n",
    "    \n",
    "    mask = pd.notnull(x) & pd.notnull(y)\n",
    "    x = np.array(x)[mask]\n",
    "    y = np.array(y)[mask]\n",
    "    if colors is None:\n",
    "        colors = \"viridis\"\n",
    "        \n",
    "    if binned_axis == 'x':\n",
    "        unbinned = 'y'\n",
    "        vert = True\n",
    "    elif binned_axis == 'y':\n",
    "        unbinned = 'x'\n",
    "        vert = False\n",
    "    else:\n",
    "        raise ValueError(\"binned_axis must be 'x' or 'y'\")\n",
    "        \n",
    "    if isinstance(x, pd.Series) and isinstance(y, pd.Series):\n",
    "        assert len(set(x.index) & set(y.index)) > 2, \"x and y lack common indices\"\n",
    "    else:\n",
    "        assert len(x) == len(y), \"if x and y are not Series, they must be the same length\"\n",
    "        \n",
    "    df = pd.DataFrame({'x': x, 'y': y})\n",
    "    \n",
    "    if endpoints is None:\n",
    "        bins = np.linspace(df[binned_axis].min()-1e-12, df[binned_axis].max()+1e-12, nbins+1)\n",
    "        space = bins[2] - bins[1]\n",
    "        medians = .5*(bins[1:] + bins[:-1])\n",
    "    else:\n",
    "        bins = [-np.inf] + list(np.linspace(endpoints[0], endpoints[1], nbins-1)) + [np.inf]\n",
    "        space = bins[2] - bins[1]\n",
    "        medians = np.array(\n",
    "            [bins[1] - .5*space] + list(.5*np.array(bins[2:-1]) + .5*np.array(bins[1:-2])) + [bins[-2] + .5*space]\n",
    "        )\n",
    "        \n",
    "    digits = np.digitize(df[binned_axis], bins, right=right).astype(np.int)\n",
    "\n",
    "    if any(digits > nbins):\n",
    "        print(df[binned_axis][digits > nbins])\n",
    "        assert False\n",
    "    df[binned_axis] = medians[digits-1]\n",
    "    \n",
    "    if axis is None:\n",
    "        axis=plt.gca()\n",
    "    else:\n",
    "        plt.sca(axis)\n",
    "    vals = sorted([val for val in sorted(medians) if (df[binned_axis] == val).sum() > 0])\n",
    "    \n",
    "    boxes = plt.boxplot(x=[df[df[binned_axis] == val][unbinned]\n",
    "                   for val in vals\n",
    "                  ], \n",
    "                positions=vals, widths=[.9*space]*len(vals), patch_artist=True, vert=vert,\n",
    "\n",
    "                **kwargs)\n",
    "    \n",
    "    counts = df[binned_axis].value_counts().loc[medians].fillna(0)\n",
    "    normer = LogNorm(vmin=0)\n",
    "    normer.autoscale(counts.values)\n",
    "    cvals = normer(counts.values)\n",
    "    if isinstance(colors, str):\n",
    "        cmap = cm.get_cmap(colors)\n",
    "        colors = [cmap(v) for v in cvals]\n",
    "    for box, color in zip(boxes['boxes'], colors):\n",
    "        box.set_facecolor(color)\n",
    "\n",
    "        \n",
    "    if binned_axis == 'x':\n",
    "        axis.xaxis.set_major_formatter(FormatStrFormatter('%.2f'))\n",
    "        if not endpoints is None:\n",
    "            plt.xticks(bins[1:-1])\n",
    "        else:\n",
    "            plt.xticks(bins)\n",
    "    else:\n",
    "        axis.yaxis.set_major_formatter(FormatStrFormatter('%.2f'))\n",
    "        if not endpoints is None:\n",
    "            plt.yticks(bins[1:-1])\n",
    "        else:\n",
    "            plt.yticks(bins)\n",
    "    if binned_axis == 'x':\n",
    "        plt.xlim(bins[1] - 1.2*space, bins[-2] + 1.2 * space)\n",
    "    else:\n",
    "        plt.ylim(bins[1] - 1.2*space, bins[-2] + 1.2 * space)\n",
    "\n",
    "    try:\n",
    "        mappable=ScalarMappable(norm=normer, cmap=cmap)\n",
    "        mappable.set_array(colors)\n",
    "        plt.gcf().colorbar(mappable, ax=plt.gca(), label=cbar_label)\n",
    "    except Exception as e:\n",
    "        print(e)\n",
    "        pass\n",
    "\n",
    "    return axis"
   ]
  },
  {
   "cell_type": "code",
   "execution_count": 4,
   "metadata": {},
   "outputs": [],
   "source": [
    "def squareplot(x, y, size=5, axis=None, plot_function=plt.scatter, line_kws={'lw': .5, 'linestyle': 'dashed', 'color': 'black'}, **kwargs):\n",
    "    if axis is None:\n",
    "        axis = plt.gca()\n",
    "    fig = axis.figure\n",
    "    fig.set_size_inches(size, size+.5)\n",
    "    plt.sca(axis)\n",
    "    axis.set_aspect('equal')\n",
    "    plot_function(x, y, **kwargs)\n",
    "    xlim = axis.get_xlim()\n",
    "    ylim = axis.get_ylim()\n",
    "    mmin = min(xlim[0], ylim[0])\n",
    "    mmax = max(xlim[1], ylim[1])\n",
    "    plt.plot([mmin, mmax], [mmin, mmax], **line_kws)"
   ]
  },
  {
   "cell_type": "code",
   "execution_count": 5,
   "metadata": {},
   "outputs": [],
   "source": [
    "def write_hdf5(df, filename):\n",
    "    if os.path.exists(filename):\n",
    "        os.remove(filename)\n",
    "    dest = h5py.File(filename)\n",
    "\n",
    "    try:\n",
    "        dim_0 = [x.encode('utf8') for x in df.index]\n",
    "        dim_1 = [x.encode('utf8') for x in df.columns]\n",
    "\n",
    "        dest_dim_0 = dest.create_dataset('dim_0', track_times=False, data=dim_0)\n",
    "        dest_dim_1 = dest.create_dataset('dim_1', track_times=False, data=dim_1)\n",
    "        dest.create_dataset(\"data\", track_times=False, data=df.values)\n",
    "    finally:\n",
    "        dest.close()\n",
    "\n",
    "def read_hdf5(filename):\n",
    "    src = h5py.File(filename, 'r')\n",
    "    try:\n",
    "        dim_0 = [x.decode('utf8') for x in src['dim_0']]\n",
    "        dim_1 = [x.decode('utf8') for x in src['dim_1']]\n",
    "        data = np.array(src['data'])\n",
    "\n",
    "        return pd.DataFrame(index=dim_0, columns=dim_1, data=data)\n",
    "    finally:\n",
    "        src.close()"
   ]
  },
  {
   "cell_type": "markdown",
   "metadata": {},
   "source": [
    "# Data Loading"
   ]
  },
  {
   "cell_type": "markdown",
   "metadata": {},
   "source": [
    "## Setup Directories"
   ]
  },
  {
   "cell_type": "code",
   "execution_count": 6,
   "metadata": {},
   "outputs": [],
   "source": [
    "# point this to a directory where you have extracted the figshare files\n",
    "figshare = \"figshare\"\n",
    "if not os.path.isdir(figshare):\n",
    "    assert False, \"Figshare directory not found, please set it\"\n",
    "#generated figure panels will be put in a local directory called \"figures\"\n",
    "if not os.path.isdir(\"figures\"):\n",
    "    os.mkdir(\"figures\")"
   ]
  },
  {
   "cell_type": "markdown",
   "metadata": {},
   "source": [
    "## Main read-in"
   ]
  },
  {
   "cell_type": "code",
   "execution_count": 7,
   "metadata": {},
   "outputs": [],
   "source": [
    "data_names = ['Achilles', 'Score', 'RNAi', 'PRISM', 'GDSC17']"
   ]
  },
  {
   "cell_type": "code",
   "execution_count": 8,
   "metadata": {},
   "outputs": [],
   "source": [
    "replacement = {\n",
    "    'KitchenSink': 'All Features',\n",
    "    'AllExpression': 'All Expression',\n",
    "    'AllGenomics': 'All Genomics',\n",
    "    'CN': 'Copy Number',\n",
    "    'Histology': 'Tissue',\n",
    "    'Methylation + Exp': 'Methylation+Exp',\n",
    "}"
   ]
  },
  {
   "cell_type": "code",
   "execution_count": 9,
   "metadata": {},
   "outputs": [
    {
     "name": "stdout",
     "output_type": "stream",
     "text": [
      "loading Achilles\n",
      "loading Score\n",
      "loading RNAi\n",
      "loading PRISM\n",
      "loading GDSC17\n"
     ]
    }
   ],
   "source": [
    "main = {}\n",
    "for name in data_names:\n",
    "    print('loading %s' %name)\n",
    "    main[name] = {\n",
    "        'y': read_hdf5(join(figshare, name+\"Target.hdf5\")),\n",
    "        'summary': pd.read_csv(join(figshare, name+\"Summary.csv\"))\\\n",
    "                    .replace(replacement)\\\n",
    "                    .set_index(['model', 'gene'])\\\n",
    "                    .sort_index(),\n",
    "        'EN_score': pd.read_csv(join(figshare, name+\"ENAdditionScore.csv\"), index_col=0),\n",
    "        \n",
    "    }"
   ]
  },
  {
   "cell_type": "code",
   "execution_count": 10,
   "metadata": {},
   "outputs": [],
   "source": [
    "for name in data_names:\n",
    "    main[name]['EN_score'].index = main[name]['EN_score'].index.astype(str)\n",
    "    \n",
    "main['GDSC17']['summary'].reset_index(inplace=True)\n",
    "main['GDSC17']['summary']['gene'] = main['GDSC17']['summary']['gene'].astype(str)\n",
    "main['GDSC17']['summary'].set_index(['model', 'gene'], inplace=True)\n",
    "main['GDSC17']['summary'].sort_index(inplace=True)"
   ]
  },
  {
   "cell_type": "code",
   "execution_count": 11,
   "metadata": {},
   "outputs": [
    {
     "name": "stdout",
     "output_type": "stream",
     "text": [
      "PRISM\n",
      "\tFDR at 0.4 Pearson Correlation or higher: 6.21E-21\n"
     ]
    }
   ],
   "source": [
    "for name in data_names:\n",
    "    if not name == \"PRISM\":\n",
    "        continue\n",
    "    print(name)\n",
    "    pvals = []\n",
    "    rhos = []\n",
    "    y = main[name]['y']\n",
    "    pred = read_hdf5(join(figshare, name+\"AllFeaturePredictions.hdf5\"))\n",
    "    for col in pred:\n",
    "        if not col in y:\n",
    "            print('%s missing in y' % col)\n",
    "            continue\n",
    "        shared = sorted(set(pred[col].dropna().index) & set(y[col].dropna().index))\n",
    "        rho, p = pearsonr(y.loc[shared, col], pred.loc[shared, col])\n",
    "        pvals.append(p)\n",
    "        rhos.append(rho)\n",
    "    fdrs = fdrcorrection(pvals, 0.05)[1]\n",
    "    fdrs = fdrs[np.array(rhos) >= .4]\n",
    "    print('\\tFDR at 0.4 Pearson Correlation or higher: %1.2E' % fdrs.max())"
   ]
  },
  {
   "cell_type": "code",
   "execution_count": 12,
   "metadata": {},
   "outputs": [],
   "source": [
    "for name in data_names:\n",
    "    main[name]['lines'] = main[name]['y'].index\n",
    "all_lines = set.union(*[set(main[name]['lines']) for name in data_names])"
   ]
  },
  {
   "cell_type": "markdown",
   "metadata": {},
   "source": [
    "## Removed Features"
   ]
  },
  {
   "cell_type": "code",
   "execution_count": 13,
   "metadata": {},
   "outputs": [],
   "source": [
    "removed_features = {name: pd.read_csv(join(figshare, name+\"FeatureDropScore.csv\"), index_col=0)['pearson_score']\n",
    "                for name in data_names}\n",
    "removed_features['GDSC17'].index = [str(s) for s in removed_features['GDSC17'].index]"
   ]
  },
  {
   "cell_type": "markdown",
   "metadata": {},
   "source": [
    "## Identifying SSV perturbations"
   ]
  },
  {
   "cell_type": "code",
   "execution_count": 14,
   "metadata": {},
   "outputs": [],
   "source": [
    "for name in data_names:\n",
    "    try:\n",
    "        normLRT = pd.read_csv(join(figshare, name + \"NormLRT.csv\"), index_col=0)['NormLRT']\\\n",
    "                    .reindex(index=main[name][\"y\"].columns)\\\n",
    "                    .sort_values()\\\n",
    "                    .dropna()\n",
    "        ssv = normLRT.index[-100:]\n",
    "    except FileNotFoundError:\n",
    "        ssv = main[name]['y'].std().sort_values().dropna().index[-100:]\n",
    "    main[name]['SSV'] = ssv"
   ]
  },
  {
   "cell_type": "markdown",
   "metadata": {},
   "source": [
    "## Other data"
   ]
  },
  {
   "cell_type": "markdown",
   "metadata": {},
   "source": [
    "### Gene relations"
   ]
  },
  {
   "cell_type": "code",
   "execution_count": 15,
   "metadata": {},
   "outputs": [],
   "source": [
    "gene_relations = pd.read_csv(join(figshare, \"GeneRelationships.csv\"), index_col=0)"
   ]
  },
  {
   "cell_type": "markdown",
   "metadata": {},
   "source": [
    "### Lineages"
   ]
  },
  {
   "cell_type": "code",
   "execution_count": 16,
   "metadata": {},
   "outputs": [],
   "source": [
    "lineages = pd.read_csv(join(figshare, \"DepMapSampleInfo.csv\")).set_index(\"DepMap_ID\")"
   ]
  },
  {
   "cell_type": "markdown",
   "metadata": {},
   "source": [
    "### CFE"
   ]
  },
  {
   "cell_type": "code",
   "execution_count": 17,
   "metadata": {},
   "outputs": [],
   "source": [
    "cfe = read_hdf5(join(figshare, \"ApproximateCFE.hdf5\"))"
   ]
  },
  {
   "cell_type": "markdown",
   "metadata": {},
   "source": [
    "### Additional Drug Annotations"
   ]
  },
  {
   "cell_type": "code",
   "execution_count": 18,
   "metadata": {},
   "outputs": [],
   "source": [
    "def make_title(s):\n",
    "    try:\n",
    "        return s[0].upper() + s[1:]\n",
    "    except:\n",
    "        return s"
   ]
  },
  {
   "cell_type": "code",
   "execution_count": 19,
   "metadata": {},
   "outputs": [],
   "source": [
    "for name in data_names:\n",
    "    try:\n",
    "        main[name]['pert_info'] = pd.read_csv(join(figshare, name+\"PerturbationInfo.csv\"),\n",
    "                                             index_col=0)\n",
    "        main[name]['pert_info'].index = [str(s) for s in main[name]['pert_info'].index]\n",
    "    except FileNotFoundError:\n",
    "        continue"
   ]
  },
  {
   "cell_type": "code",
   "execution_count": 32,
   "metadata": {},
   "outputs": [
    {
     "name": "stdout",
     "output_type": "stream",
     "text": [
      "PRISM drug categories\n",
      "112\n"
     ]
    }
   ],
   "source": [
    "print('PRISM drug categories')\n",
    "counts = main['PRISM']['pert_info']['disease.area'].value_counts()\n",
    "oncology_uses = [s for s in counts.index if \"oncology\" in s]\n",
    "print(counts[oncology_uses].sum())"
   ]
  },
  {
   "cell_type": "markdown",
   "metadata": {},
   "source": [
    "### Greedy Feature Addition Scores"
   ]
  },
  {
   "cell_type": "code",
   "execution_count": 33,
   "metadata": {},
   "outputs": [],
   "source": [
    "greedy_score = {}\n",
    "for name in data_names:\n",
    "    greedy_score[name] = pd.read_csv(join(figshare, name+'RFAdditionScore.csv'), index_col=0)\n",
    "    greedy_score[name].index = [str(s).split('::')[0] for s in greedy_score[name].index]"
   ]
  },
  {
   "cell_type": "markdown",
   "metadata": {},
   "source": [
    "# Fig.1: Summarizing data sets"
   ]
  },
  {
   "cell_type": "markdown",
   "metadata": {},
   "source": [
    "## Basic facts"
   ]
  },
  {
   "cell_type": "code",
   "execution_count": 34,
   "metadata": {
    "scrolled": true
   },
   "outputs": [],
   "source": [
    "lineage_counts = {}\n",
    "unique_lin = lineages.reindex(index=all_lines).dropna(how='all').lineage.dropna().unique()\n",
    "for name in data_names:\n",
    "    lineage_counts[name] = lineages.reindex(index=main[name]['y'].index).dropna(how='all'\n",
    "        ).lineage.value_counts().reindex(index=unique_lin).fillna(0)\n",
    "lineage_counts = pd.DataFrame(lineage_counts)"
   ]
  },
  {
   "cell_type": "code",
   "execution_count": 35,
   "metadata": {
    "scrolled": true
   },
   "outputs": [
    {
     "name": "stdout",
     "output_type": "stream",
     "text": [
      "predicted measured responses: 28514827\n",
      "total unique cell lines: 1084\n",
      "Cell lines per dataset\n",
      "\tAchilles 693\n",
      "\tScore 241\n",
      "\tRNAi 655\n",
      "\tPRISM 571\n",
      "\tGDSC17 674\n",
      "Perturbations per dataset\n",
      "\tAchilles 18333\n",
      "\tScore 17799\n",
      "\tRNAi 17309\n",
      "\tPRISM 4686\n",
      "\tGDSC17 255\n"
     ]
    }
   ],
   "source": [
    "for name in data_names:\n",
    "    main[name]['measurements_predicted'] = main[name]['y'].notnull().sum().sum()\n",
    "print('predicted measured responses: %i' % (sum([main[name]['measurements_predicted'] \n",
    "                                            for name in data_names])))\n",
    "print('total unique cell lines: %i' %len(all_lines))\n",
    "print(\"Cell lines per dataset\")\n",
    "for name in data_names:\n",
    "    print('\\t' + name, main[name]['y'].shape[0])\n",
    "print(\"Perturbations per dataset\")\n",
    "for name in data_names:\n",
    "    print('\\t' + name, main[name]['y'].shape[1])"
   ]
  },
  {
   "cell_type": "code",
   "execution_count": 36,
   "metadata": {},
   "outputs": [
    {
     "name": "stdout",
     "output_type": "stream",
     "text": [
      "Performance per dataset\n",
      "\tAchilles Median 0.1017, above 0.4: 0.0268\n",
      "\tScore Median 0.0721, above 0.4: 0.0184\n",
      "\tRNAi Median 0.2080, above 0.4: 0.0484\n",
      "\tPRISM Median 0.0480, above 0.4: 0.0222\n",
      "\tGDSC17 Median 0.3866, above 0.4: 0.4627\n",
      "Performance per dataset - SSV\n",
      "\tAchilles Median 0.4905, above 0.4: 0.6500\n",
      "\tScore Median 0.2653, above 0.4: 0.3000\n",
      "\tRNAi Median 0.3963, above 0.4: 0.5000\n",
      "\tPRISM Median 0.3339, above 0.4: 0.3700\n",
      "\tGDSC17 Median 0.4067, above 0.4: 0.5300\n"
     ]
    }
   ],
   "source": [
    "print(\"Performance per dataset\")\n",
    "for name in data_names:\n",
    "    print('\\t' + name, 'Median %1.4f, above 0.4: %1.4f' % (\n",
    "        main[name]['summary'].loc['All Features'].overall_pearson.median(),\n",
    "        (main[name]['summary'].loc['All Features'].overall_pearson > .4).mean()\n",
    "    )\n",
    "         )\n",
    "print(\"Performance per dataset - SSV\")\n",
    "for name in data_names:\n",
    "    print('\\t' + name, 'Median %1.4f, above 0.4: %1.4f' % (\n",
    "        main[name]['summary'].loc['All Features'].loc[main[name]['SSV']].overall_pearson.median(),\n",
    "        (main[name]['summary'].loc['All Features'].loc[main[name]['SSV']].overall_pearson > .4).mean()\n",
    "    )\n",
    "         )"
   ]
  },
  {
   "cell_type": "code",
   "execution_count": 37,
   "metadata": {},
   "outputs": [],
   "source": [
    "#len(all_samples)"
   ]
  },
  {
   "cell_type": "markdown",
   "metadata": {},
   "source": [
    "## 1a: Lineage Representation"
   ]
  },
  {
   "cell_type": "code",
   "execution_count": 38,
   "metadata": {},
   "outputs": [],
   "source": [
    "color_scheme = {\n",
    "    'all_genes': [.1, .7, .55, 1],\n",
    "    'SSVs': [.6, .2, .5, 1],\n",
    "}"
   ]
  },
  {
   "cell_type": "code",
   "execution_count": 39,
   "metadata": {},
   "outputs": [],
   "source": [
    "colors =  [\n",
    "    'mediumvioletred', 'darkolivegreen', 'mediumpurple', 'green', \n",
    "    'lightsalmon', 'brown', 'chartreuse', 'hotpink', \n",
    "    'deepskyblue', 'darkseagreen','deeppink', 'skyblue', \n",
    "    'crimson', 'limegreen', 'orangered', 'blueviolet', \n",
    "    'darkorange', 'darkkhaki','red', 'gray', \n",
    "    'springgreen', 'goldenrod', 'mediumblue', 'palegreen',\n",
    "    'lemonchiffon', 'coral', 'tomato', 'cyan', 'purple',\n",
    "    [.4, .7, .1], [0, .3, .3], [.7, .7, .4]\n",
    "][:len(unique_lin)]\n",
    "colors = sns.cubehelix_palette(len(unique_lin), rot=8.5, dark=.3, light=.8, hue=.8)"
   ]
  },
  {
   "cell_type": "code",
   "execution_count": 40,
   "metadata": {},
   "outputs": [],
   "source": [
    "def stacked_bar(seq, colors, labels=False):\n",
    "    bottom = 0\n",
    "    if labels:\n",
    "        labels = seq.index\n",
    "    else:\n",
    "        labels = [None]*len(seq)\n",
    "    for i, val in enumerate(seq):\n",
    "        plt.bar(y=0, height=1, x=bottom, width=val, align='edge',\n",
    "                    color=colors[i], label=labels[i])\n",
    "        if not pd.isnull(val):\n",
    "            bottom += val\n",
    "    sns.despine(top=True, right=True)\n",
    "    sns.despine(left=True)\n",
    "    plt.yticks([])"
   ]
  },
  {
   "cell_type": "code",
   "execution_count": 41,
   "metadata": {},
   "outputs": [
    {
     "data": {
      "image/png": "[encoded data removed]",
      "text/plain": [
       "<Figure size 540x216 with 5 Axes>"
      ]
     },
     "metadata": {
      "needs_background": "light"
     },
     "output_type": "display_data"
    }
   ],
   "source": [
    "fig, axs = plt.subplots(3, 2, figsize=(7.5, 3))\n",
    "axs = [axs[i, j] for i in range(3) for j in range(2)]\n",
    "for name, ax in zip(data_names, axs):\n",
    "    plt.sca(ax)\n",
    "    stacked_bar(lineage_counts[name], colors, name==name)\n",
    "    plt.xlabel('')\n",
    "    plt.ylabel(name, rotation=90)\n",
    "\n",
    "fig.delaxes(axs[-1])\n",
    "\n",
    "axs[-2].set_xlabel(\"Number of Lines/Samples\")\n",
    "plt.tight_layout()\n",
    "#plt.subplots_adjust(right=.65, wspace=1)\n",
    "plt.savefig('figures/lineage_breakdown.png', dpi=600)"
   ]
  },
  {
   "cell_type": "code",
   "execution_count": 42,
   "metadata": {},
   "outputs": [
    {
     "data": {
      "image/png": "[encoded data removed]",
      "text/plain": [
       "<Figure size 540x115.2 with 1 Axes>"
      ]
     },
     "metadata": {},
     "output_type": "display_data"
    }
   ],
   "source": [
    "rects = [plt.Rectangle((0, 0), 1, 1, fc=color) for color in colors]\n",
    "plt.legend(rects, unique_lin, ncol=4, loc=(0, 0), frameon=False, fontsize=7.2)\n",
    "plt.gcf().set_size_inches((7.5, 1.6))\n",
    "sns.despine(left=True, bottom=True)\n",
    "plt.xticks([])\n",
    "plt.yticks([])\n",
    "plt.tight_layout()\n",
    "plt.savefig(\"figures/lineage_breakdown_legend.png\", dpi=600)"
   ]
  },
  {
   "cell_type": "markdown",
   "metadata": {},
   "source": [
    "## 1b: Number Perturbations in Datasets"
   ]
  },
  {
   "cell_type": "code",
   "execution_count": 43,
   "metadata": {},
   "outputs": [
    {
     "data": {
      "image/png": "[encoded data removed]",
      "text/plain": [
       "<Figure size 288x216 with 1 Axes>"
      ]
     },
     "metadata": {
      "needs_background": "light"
     },
     "output_type": "display_data"
    }
   ],
   "source": [
    "nperturbations = pd.Series({\n",
    "    name: main[name]['y'].shape[1]\n",
    "    for name in data_names\n",
    "})\n",
    "plt.close('all')\n",
    "plt.figure(figsize=(4, 3))\n",
    "sns.barplot(y=nperturbations.index, x=nperturbations.values, \n",
    "            palette=sns.cubehelix_palette(rot=0, start=-.5, dark=.5, light=.5))\n",
    "plt.text(s='CRISPR-Cas9 KO', x=500, y=0.1, color='white', fontdict={'weight': 'bold'})\n",
    "plt.text(s='CRISPR-Cas9 KO', x=500, y=1.1, color='white', fontdict={'weight': 'bold'})\n",
    "plt.text(s='Hairpin knockdown', x=500, y=2.1, color='white', fontdict={'weight': 'bold'})\n",
    "plt.text(s='Pooled Repurposed Drug', x=5000, y=3.1, color='black', fontdict={'weight': 'bold'})\n",
    "plt.text(s='Antineoplastic Drug', x=500, y=4.1, color='black', fontdict={'weight': 'bold'})\n",
    "#plt.xscale('log')\n",
    "sns.despine(top=True, right=True)\n",
    "plt.xlabel(\"Number Perturbations Modeled\")\n",
    "plt.tight_layout()\n",
    "plt.savefig(\"figures/perturbation_counts.png\", dpi=600)"
   ]
  },
  {
   "cell_type": "markdown",
   "metadata": {},
   "source": [
    "## 1c: Number Features for Omics Types"
   ]
  },
  {
   "cell_type": "code",
   "execution_count": 44,
   "metadata": {},
   "outputs": [],
   "source": [
    "feat = read_hdf5(join(figshare, \"AchillesFeatures.hdf5\"))\n",
    "nfeatures = pd.Series({\n",
    "    'Mutation': len([s for s in feat if s[-3:] in ('Hot', 'Dam', 'Mut')]),\n",
    "    'Fusion': len([s for s in feat if s.endswith(\"Fusion\")]),\n",
    "    'Expression': len([s for s in feat if s.endswith(\"Exp\")]),\n",
    "    'GSEA': len([s for s in feat if s.endswith(\"GSEA\")]),\n",
    "    'Tissue': len([s for s in feat if s.endswith(\"Cell\")]),\n",
    "    'Copy Number': len([s for s in feat if s.endswith(\"CN\")]),\n",
    "    'Methylation': len([s for s in feat if s[-7:] in ('MethTSS', 'MethCpG')])\n",
    "})\n",
    "del feat"
   ]
  },
  {
   "cell_type": "code",
   "execution_count": 45,
   "metadata": {},
   "outputs": [],
   "source": [
    "nfeatures['CFE'] = cfe.shape[1]\n",
    "nfeatures.sort_values(ascending=False, inplace=True)"
   ]
  },
  {
   "cell_type": "code",
   "execution_count": 46,
   "metadata": {},
   "outputs": [
    {
     "data": {
      "image/png": "[encoded data removed]",
      "text/plain": [
       "<Figure size 288x216 with 1 Axes>"
      ]
     },
     "metadata": {
      "needs_background": "light"
     },
     "output_type": "display_data"
    }
   ],
   "source": [
    "plt.close('all')\n",
    "plt.figure(figsize=(4, 3))\n",
    "sns.barplot(y=nfeatures.index, x=nfeatures.values, palette=sns.cubehelix_palette(rot=0, start=.8, dark=.5, light=.5))\n",
    "plt.xscale('log')\n",
    "sns.despine(top=True, right=True)\n",
    "plt.xlabel(\"Number Features\")\n",
    "plt.tight_layout()\n",
    "plt.savefig(\"figures/feature_counts.png\", dpi=600)"
   ]
  },
  {
   "cell_type": "markdown",
   "metadata": {},
   "source": [
    "# Fig 2: Overall Performance"
   ]
  },
  {
   "cell_type": "markdown",
   "metadata": {},
   "source": [
    "## Fig 2b: Performance with All"
   ]
  },
  {
   "cell_type": "code",
   "execution_count": 47,
   "metadata": {},
   "outputs": [
    {
     "name": "stdout",
     "output_type": "stream",
     "text": [
      "Achilles overall median 0.102, SSV median 0.490,  all above 0.4 0.027, SSV above 0.4 0.650\n",
      "Score overall median 0.072, SSV median 0.265,  all above 0.4 0.018, SSV above 0.4 0.300\n",
      "RNAi overall median 0.208, SSV median 0.396,  all above 0.4 0.048, SSV above 0.4 0.500\n",
      "PRISM overall median 0.048, SSV median 0.334,  all above 0.4 0.022, SSV above 0.4 0.370\n",
      "GDSC17 overall median 0.387, SSV median 0.407,  all above 0.4 0.463, SSV above 0.4 0.530\n"
     ]
    },
    {
     "data": {
      "image/png": "[encoded data removed]",
      "text/plain": [
       "<Figure size 540x115.2 with 5 Axes>"
      ]
     },
     "metadata": {
      "needs_background": "light"
     },
     "output_type": "display_data"
    }
   ],
   "source": [
    "plt.close('all')\n",
    "fig, axs = plt.subplots(1, len(data_names), figsize=(7.5, 1.6))\n",
    "for name, ax in zip(data_names, axs):\n",
    "    plt.sca(ax)\n",
    "    sns.kdeplot(main[name]['summary'].loc['All Features']['overall_pearson'], \n",
    "                label='All', shade=True, color=color_scheme['all_genes'], bw=.02, legend=False)\n",
    "    sns.kdeplot(main[name]['summary'].loc['All Features'].loc[\n",
    "            main[name]['SSV']\n",
    "        ]['overall_pearson'], \n",
    "                label='SSVs', shade=True, color=color_scheme['SSVs'], bw=.05,\n",
    "               legend=False)\n",
    "    print(name, 'overall median %1.3f, SSV median %1.3f,  all above 0.4 %1.3f, SSV above 0.4 %1.3f' % (\n",
    "        main[name]['summary'].loc['All Features']['overall_pearson'].median(),\n",
    "        main[name]['summary'].loc['All Features'].loc[main[name]['SSV']]['overall_pearson'].median(),\n",
    "        (main[name]['summary'].loc['All Features']['overall_pearson'] > .4).mean(),\n",
    "        (main[name]['summary'].loc['All Features'].loc[main[name]['SSV']]['overall_pearson'] > .4).mean()\n",
    "        ))\n",
    "    sns.despine(top=True, right=True)\n",
    "    if name == 'CRISPR':\n",
    "        plt.xlabel('')\n",
    "        plt.legend(frameon=False)\n",
    "    plt.xlim(-.2, 1)\n",
    "    plt.xticks([ 0,  .4, .8])\n",
    "    plt.title(name, fontsize=9)\n",
    "\n",
    "    for x, color in zip([.4], ['black']):\n",
    "         plt.plot([x, x], [0, plt.gca().get_ylim()[-1]], ':', color=color, lw=1, alpha=.25)\n",
    "    sns.despine(left=True)\n",
    "    plt.yticks([])\n",
    "    \n",
    "custom_lines = [Line2D([0], [0], color=color_scheme['all_genes']),\n",
    "                Line2D([0], [0], color=color_scheme['SSVs'])]\n",
    "plt.legend(custom_lines, ['All', 'SSVs'], loc=(1, .7), frameon=False)\n",
    "    \n",
    "fig.text(.5, .005, \"Model Pearson correlation\", fontsize=9, ha='center')\n",
    "plt.tight_layout()\n",
    "plt.subplots_adjust(wspace=.02)\n",
    "plt.savefig('figures/distro_summary.png', dpi=600)"
   ]
  },
  {
   "cell_type": "markdown",
   "metadata": {},
   "source": [
    "## Fig 2c: Best out of All Genomics, All Expression"
   ]
  },
  {
   "cell_type": "code",
   "execution_count": 48,
   "metadata": {},
   "outputs": [],
   "source": [
    "perf_expression = {name: main[name]['summary'].loc['All Expression']['overall_pearson']\n",
    "                               for name in data_names}"
   ]
  },
  {
   "cell_type": "code",
   "execution_count": 49,
   "metadata": {},
   "outputs": [],
   "source": [
    "perf_genomics = {name: main[name]['summary'].loc['All Genomics']['overall_pearson']\n",
    "                               for name in data_names}"
   ]
  },
  {
   "cell_type": "code",
   "execution_count": 50,
   "metadata": {},
   "outputs": [],
   "source": [
    "perf_diff = {name: perf_expression[name] - perf_genomics[name]\n",
    "             for name in data_names}"
   ]
  },
  {
   "cell_type": "code",
   "execution_count": 51,
   "metadata": {},
   "outputs": [],
   "source": [
    "perf_max = {name: pd.DataFrame({'exp': perf_expression[name], 'gen': perf_genomics[name]}).max(axis=1)\n",
    "             for name in data_names}"
   ]
  },
  {
   "cell_type": "code",
   "execution_count": 52,
   "metadata": {},
   "outputs": [
    {
     "name": "stdout",
     "output_type": "stream",
     "text": [
      "Achilles total good: 464 expression best: 388 expression best percent: 0.8362068965517241\n",
      "Score total good: 320 expression best: 215 expression best percent: 0.671875\n",
      "RNAi total good: 788 expression best: 695 expression best percent: 0.881979695431472\n",
      "PRISM total good: 96 expression best: 92 expression best percent: 0.9583333333333334\n",
      "GDSC17 total good: 117 expression best: 112 expression best percent: 0.9572649572649573\n"
     ]
    },
    {
     "data": {
      "image/png": "[encoded data removed]",
      "text/plain": [
       "<Figure size 288x122.4 with 1 Axes>"
      ]
     },
     "metadata": {
      "needs_background": "light"
     },
     "output_type": "display_data"
    }
   ],
   "source": [
    "for name in data_names:\n",
    "    plt.close('all')\n",
    "    plt.gcf().set_size_inches(4, 1.5)\n",
    "    grid = np.linspace(min(perf_max[name])-.05, max(perf_max[name])+.05, 200)\n",
    "    \n",
    "    upper = perf_diff[name].loc[lambda x: x > 0].index\n",
    "    kde = gaussian_kde(perf_max[name].loc[upper])\n",
    "    scale = len(upper) *1.0/len(perf_max[name])\n",
    "    vals = scale * kde(grid)\n",
    "    plt.plot(grid, vals, lw=2, label=\"Expression Best\")\n",
    "    plt.fill_between(grid, vals, alpha=.5)\n",
    "    \n",
    "    lower = perf_diff[name].loc[lambda x: x <= 0].index\n",
    "    kde = gaussian_kde(perf_max[name].loc[lower])\n",
    "    scale = len(lower) *1.0/len(perf_max[name])\n",
    "    vals = -scale * kde(grid)\n",
    "    plt.plot(grid, vals, lw=2, label=\"Genomics Best\")\n",
    "    plt.fill_between(grid, vals, alpha=.5)\n",
    "    \n",
    "    good = perf_max[name].loc[lambda x: x > 0.4].index\n",
    "    print(name, 'total good:', len(good), 'expression best:', len(set(good) & set(upper)),\n",
    "         'expression best percent:', len(set(good)& set(upper))/len(good))\n",
    "    \n",
    "    if name == 'Achilles':\n",
    "        plt.legend(loc=\"upper right\", frameon=False)\n",
    "    \n",
    "    if name in ('PRISM', 'GDSC17'):\n",
    "        plt.xlabel(\"Performance in Best Model\")\n",
    "        plt.gcf().set_size_inches(4, 1.7)\n",
    "    plt.ylabel(name)\n",
    "    plt.yticks([0, 2])\n",
    "    plt.xlim(-.25, .9)\n",
    "    \n",
    "    plt.tight_layout()\n",
    "    sns.despine(right=True, top=True)\n",
    "    \n",
    "    plt.savefig('figures/mean_v_diff_%s.png' % name, dpi=600)"
   ]
  },
  {
   "cell_type": "markdown",
   "metadata": {},
   "source": [
    "## Fig 2d: Predictors > 0.4 with Expression or Genomics"
   ]
  },
  {
   "cell_type": "code",
   "execution_count": 53,
   "metadata": {
    "scrolled": false
   },
   "outputs": [
    {
     "name": "stdout",
     "output_type": "stream",
     "text": [
      "Achilles total genes with fair models 464 total fair with exp 431 total fair with genomics 187 overlap 154\n",
      "Score total genes with fair models 320 total fair with exp 244 total fair with genomics 168 overlap 92\n",
      "RNAi total genes with fair models 788 total fair with exp 755 total fair with genomics 318 overlap 285\n",
      "PRISM total genes with fair models 96 total fair with exp 94 total fair with genomics 46 overlap 44\n",
      "GDSC17 total genes with fair models 117 total fair with exp 117 total fair with genomics 65 overlap 65\n"
     ]
    },
    {
     "data": {
      "image/png": "[encoded data removed]",
      "text/plain": [
       "<Figure size 360x360 with 5 Axes>"
      ]
     },
     "metadata": {
      "needs_background": "light"
     },
     "output_type": "display_data"
    }
   ],
   "source": [
    "plt.close('all')\n",
    "fig, axs = plt.subplots(1, len(data_names), figsize=(5.0, 5.0))\n",
    "\n",
    "for name, ax in zip(data_names, axs):\n",
    "    df = main[name]['summary']\n",
    "    plt.sca(ax)\n",
    "    sub = df.loc[(['All Expression', 'All Genomics'], slice(None)), slice(None)]\n",
    "    fair_models = sub[sub.overall_pearson > .4].reset_index()\n",
    "    ratio_exp_in_fair_models = fair_models.model.isin(['All Expression', 'Expression']).sum()\n",
    "    overlap = fair_models.groupby('gene').agg(lambda x: len(x) == 2).astype(np.int)['model'].sum()\n",
    "    total_fair = len(fair_models)\n",
    "    print(name, 'total genes with fair models', fair_models.gene.nunique(),\n",
    "          'total fair with exp', ratio_exp_in_fair_models,\n",
    "          'total fair with genomics', fair_models.model.isin(['All Genomics', 'Mutation']).sum(),\n",
    "          'overlap', overlap\n",
    "         )\n",
    "\n",
    "    plt.bar(x=0, width=.5, bottom=0, height=ratio_exp_in_fair_models, color='skyblue',\n",
    "           hatch='\\\\\\\\\\\\', edgecolor='black')\n",
    "    plt.bar(x=0, width=.5, \n",
    "            bottom=ratio_exp_in_fair_models , \n",
    "            height=total_fair - ratio_exp_in_fair_models - overlap,\n",
    "            color='tomato',\n",
    "            hatch='///',\n",
    "             edgecolor='black',\n",
    "           alpha=1)\n",
    "    plt.bar(x=0, width=.5, \n",
    "            bottom=ratio_exp_in_fair_models - overlap, \n",
    "            height=overlap,\n",
    "            color='tomato',\n",
    "            hatch='///',\n",
    "             edgecolor='black',\n",
    "           alpha=.5)\n",
    "    sns.despine(bottom=True, top=True, right=True)\n",
    "    _ = plt.xticks([])\n",
    "    plt.ylim(0, total_fair - overlap)\n",
    "    plt.ylabel('')\n",
    "    if name == data_names[0]:\n",
    "        plt.ylabel(\"Predictable Perturbations\", fontsize=14)\n",
    "    plt.yticks(np.linspace(0, total_fair - overlap, 8).astype(np.int), rotation=90)\n",
    "    plt.text(0, 0, name, rotation=90, horizontalalignment='left', verticalalignment='top',\n",
    "            fontsize=12)\n",
    "plt.tight_layout()\n",
    "plt.savefig('figures/one_bar.png', dpi=600)"
   ]
  },
  {
   "cell_type": "code",
   "execution_count": 54,
   "metadata": {},
   "outputs": [
    {
     "name": "stdout",
     "output_type": "stream",
     "text": [
      "all 1785\n"
     ]
    }
   ],
   "source": [
    "print('all', 464 + 320 + 788 + 96 + 117)"
   ]
  },
  {
   "cell_type": "code",
   "execution_count": 55,
   "metadata": {},
   "outputs": [
    {
     "name": "stdout",
     "output_type": "stream",
     "text": [
      "expression 1641\n"
     ]
    }
   ],
   "source": [
    "print('expression', 431 + 244 + 755 + 94 + 117)"
   ]
  },
  {
   "cell_type": "code",
   "execution_count": 56,
   "metadata": {},
   "outputs": [
    {
     "name": "stdout",
     "output_type": "stream",
     "text": [
      "genomics 784\n"
     ]
    }
   ],
   "source": [
    "print('genomics', 187 + 168 + 318 + 46 + 65)"
   ]
  },
  {
   "cell_type": "code",
   "execution_count": 57,
   "metadata": {},
   "outputs": [
    {
     "name": "stdout",
     "output_type": "stream",
     "text": [
      "overlap 640\n"
     ]
    }
   ],
   "source": [
    "print('overlap', 154 + 92 + 285 + 44 + 65)"
   ]
  },
  {
   "cell_type": "code",
   "execution_count": 58,
   "metadata": {},
   "outputs": [
    {
     "data": {
      "text/plain": [
       "1001"
      ]
     },
     "execution_count": 58,
     "metadata": {},
     "output_type": "execute_result"
    }
   ],
   "source": [
    "1641 - 640"
   ]
  },
  {
   "cell_type": "code",
   "execution_count": 59,
   "metadata": {},
   "outputs": [
    {
     "data": {
      "text/plain": [
       "144"
      ]
     },
     "execution_count": 59,
     "metadata": {},
     "output_type": "execute_result"
    }
   ],
   "source": [
    "784 - 640"
   ]
  },
  {
   "cell_type": "markdown",
   "metadata": {},
   "source": [
    "# Fig 2-1: RF/EN comparison"
   ]
  },
  {
   "cell_type": "code",
   "execution_count": 60,
   "metadata": {},
   "outputs": [
    {
     "name": "stdout",
     "output_type": "stream",
     "text": [
      "Achilles 100\n",
      "Score 100\n",
      "RNAi 100\n",
      "PRISM 100\n",
      "GDSC17 100\n",
      "RF beats EN 355 EN beats RF 145\n"
     ]
    },
    {
     "data": {
      "image/png": "[encoded data removed]",
      "text/plain": [
       "<Figure size 216x216 with 1 Axes>"
      ]
     },
     "metadata": {
      "needs_background": "light"
     },
     "output_type": "display_data"
    }
   ],
   "source": [
    "total_rf_better = 0\n",
    "total_en_better = 0\n",
    "for name in data_names:\n",
    "    plt.close('all')\n",
    "    x = main[name]['summary'].loc['All Features'].loc[main[name]['SSV'], 'overall_pearson']\n",
    "    y = main[name]['EN_score'].loc[main[name]['SSV']]['all']\n",
    "    print(name, y.notnull().sum())\n",
    "    squareplot(x, y, \n",
    "               linewidth=1, alpha=.75, s=15\n",
    "              )\n",
    "    total_rf_better += (x > y).sum()\n",
    "    total_en_better += (y > x).sum() \n",
    "    sns.despine(top=True, right=True)\n",
    "    plt.xlabel(\"Filtered Random Forest Score\")\n",
    "    plt.ylabel(\"Elastic Net Score\")\n",
    "    plt.title(name)\n",
    "    plt.gcf().set_size_inches(3, 3)\n",
    "    plt.tight_layout()\n",
    "    plt.savefig(\"figures/en_comparison_%s.png\" % name, dpi=600)\n",
    "print('RF beats EN', total_rf_better, 'EN beats RF', total_en_better)"
   ]
  },
  {
   "cell_type": "markdown",
   "metadata": {},
   "source": [
    "# Fig 2-2: Known Oncogenes"
   ]
  },
  {
   "cell_type": "code",
   "execution_count": 61,
   "metadata": {},
   "outputs": [],
   "source": [
    "oncogenes = pd.read_csv(join(figshare,\"OncoKB_oncogenes.csv\"))['gene']"
   ]
  },
  {
   "cell_type": "code",
   "execution_count": 62,
   "metadata": {},
   "outputs": [
    {
     "name": "stderr",
     "output_type": "stream",
     "text": [
      "/usr/local/lib/python3.6/site-packages/numpy/core/fromnumeric.py:56: FutureWarning: Series.nonzero() is deprecated and will be removed in a future version.Use Series.to_numpy().nonzero() instead\n",
      "  return getattr(obj, method)(*args, **kwds)\n"
     ]
    },
    {
     "data": {
      "image/png": "[encoded data removed]",
      "text/plain": [
       "<Figure size 252x252 with 1 Axes>"
      ]
     },
     "metadata": {
      "needs_background": "light"
     },
     "output_type": "display_data"
    }
   ],
   "source": [
    "for name in 'Achilles', 'Score', 'RNAi':\n",
    "    summary = main[name]['summary']\n",
    "    oncogene_list = sorted(set(oncogenes) & set(summary.index.get_level_values(1)))\n",
    "    plt.close('all')\n",
    "    plt.figure(figsize=(3.5, 3.5))\n",
    "    plt.scatter(\n",
    "        summary.loc['All Genomics'].loc[oncogene_list].overall_pearson, \n",
    "        summary.loc['All Expression'].loc[oncogene_list].overall_pearson,\n",
    "        edgecolor=\"navy\", alpha=.5\n",
    "    )\n",
    "    plt.plot([-1, 1], [-1, 1], '--', color='black')\n",
    "    plt.xlim(-.1, .9)\n",
    "    plt.ylim(-.1, .9)\n",
    "    plt.xlabel('Pearson Score with Genomics')\n",
    "    plt.ylabel('Pearson Score with Expression')\n",
    "    plt.tight_layout()\n",
    "    interesting = list((\n",
    "        summary.loc['All Genomics'].loc[oncogene_list, 'overall_pearson']\n",
    "                   - summary.loc['All Expression'].loc[oncogene_list, 'overall_pearson']\n",
    "                  ).abs().sort_values().index[-15:])\n",
    "    interesting = sorted(set(interesting + ['BRAF (673)']))\n",
    "    \n",
    "    texts = [plt.text(summary.loc['All Genomics'].loc[gene].overall_pearson,\n",
    "                     summary.loc['All Expression'].loc[gene].overall_pearson,\n",
    "                     gene.split(' ')[0], fontsize=7.5)\n",
    "                for gene in interesting]\n",
    "    adjust_text(texts, x=summary.loc['All Genomics'].loc[oncogene_list].overall_pearson,\n",
    "                y=summary.loc['All Expression'].loc[oncogene_list].overall_pearson,\n",
    "                arrowprops=dict(arrowstyle='->', color=\"black\", alpha=.25, lw=.5)\n",
    "               )\n",
    "    sns.despine(top=True, right=True)\n",
    "    plt.savefig(\"figures/oncogene_scatter%s.png\" %name, dpi=600)"
   ]
  },
  {
   "cell_type": "markdown",
   "metadata": {},
   "source": [
    "# Fig. 2-3: Benefit of Additional Omics"
   ]
  },
  {
   "cell_type": "code",
   "execution_count": 68,
   "metadata": {},
   "outputs": [],
   "source": [
    "def get_performance_change(model_results, model1, model2, \n",
    "                           criterion='overall_pearson', min_original=0, max_entries=np.inf,\n",
    "                           name_map=None\n",
    "                          ):\n",
    "    ind = pd.Index(set(model_results.loc[model2].index) & set(model_results.loc[model1].index))\n",
    "    change = pd.DataFrame({'change': \n",
    "                model_results.loc[model2].loc[ind][criterion] - \\\n",
    "                model_results.loc[model1].loc[ind][criterion]\n",
    "                          })\n",
    "    change['original'] = model_results.loc[model1].loc[ind][criterion]\n",
    "    change = change[change.index.to_series().apply(lambda x: '&' not in x).values]\n",
    "    ind = model_results.loc[model1].query('%s > %f' %(criterion, min_original)).index\n",
    "    change = change.loc[ind]\n",
    "    if max_entries < np.inf:\n",
    "        change = change.sort_values(['original'], ascending=False).iloc[0:max_entries]\n",
    "    out = change.sort_values('change').reset_index().rename(columns={'index': 'gene'})\n",
    "    if not name_map is None:\n",
    "        out['gene'] = name_map.loc[out.gene].values\n",
    "    return out"
   ]
  },
  {
   "cell_type": "markdown",
   "metadata": {},
   "source": [
    "## Fig 2-3a: Adding Expression to Genomics"
   ]
  },
  {
   "cell_type": "code",
   "execution_count": 69,
   "metadata": {
    "scrolled": false
   },
   "outputs": [
    {
     "name": "stdout",
     "output_type": "stream",
     "text": [
      "Achilles median change 0.052643575144028176 0.08778665803759121\n",
      "total median percent change: 0.087787\n",
      "Score median change 0.012509481681879764 0.02120364490420176\n",
      "total median percent change: 0.059327\n"
     ]
    },
    {
     "name": "stderr",
     "output_type": "stream",
     "text": [
      "/Users/dempster/Library/Python/3.6/lib/python/site-packages/ipykernel_launcher.py:13: FutureWarning: \n",
      "Passing list-likes to .loc or [] with any missing label will raise\n",
      "KeyError in the future, you can use .reindex() as an alternative.\n",
      "\n",
      "See the documentation here:\n",
      "https://pandas.pydata.org/pandas-docs/stable/indexing.html#deprecate-loc-reindex-listlike\n",
      "  del sys.path[0]\n"
     ]
    },
    {
     "name": "stdout",
     "output_type": "stream",
     "text": [
      "RNAi median change 0.03631427034409723 0.06174892832792064\n",
      "total median percent change: 0.060411\n",
      "PRISM median change 0.048318096181044184 0.09536771886726772\n",
      "total median percent change: 0.077613\n",
      "GDSC17 median change 0.04725128429583264 0.08903281007040745\n",
      "total median percent change: 0.080602\n"
     ]
    },
    {
     "data": {
      "image/png": "[encoded data removed]",
      "text/plain": [
       "<Figure size 252x252 with 1 Axes>"
      ]
     },
     "metadata": {
      "needs_background": "light"
     },
     "output_type": "display_data"
    }
   ],
   "source": [
    "pct_change = []\n",
    "for name in data_names:\n",
    "    plt.close('all')\n",
    "    plt.figure(figsize=(3.5, 3.5))\n",
    "    name_map = None\n",
    "    if name in ['PRISM', 'GDSC17']:\n",
    "        name_map = main[name]['pert_info']['Name'].drop_duplicates().replace(\n",
    "            {'bis(maltolato)oxovanadium(IV)': 'BMOV'})\n",
    "    \n",
    "    data = get_performance_change(main[name]['summary'], \n",
    "                                  'All Genomics', 'All Features',\n",
    "                                  criterion='overall_pearson', min_original=.4, max_entries=20,\n",
    "                                  name_map=name_map\n",
    "                                 )\n",
    "#     if name == 'CRISPR':\n",
    "#         data['gene'] = data['gene'].apply(lambda s: s.split(' ')[0])\n",
    "    print(name, 'median change', data['change'].median(), \n",
    "          (data['change']/data['original']).median())\n",
    "    pct_change.extend(data['change']/data['original'])\n",
    "    sns.barplot(data=data, y='gene', x='change', palette='coolwarm_r')\n",
    "    plt.xlabel('Score Change with All')\n",
    "    plt.ylabel('')\n",
    "    sns.despine(top=True, right=True)\n",
    "    plt.xlim(-.3, .3)\n",
    "    for tick in plt.gca().get_xticklabels():\n",
    "        tick.set_rotation(0)\n",
    "    plt.title(name)\n",
    "    plt.tight_layout()\n",
    "    #plt.subplots_adjust(right=.99)\n",
    "    print(\"total median percent change: %f\" % np.median(pct_change))\n",
    "    plt.savefig('figures/adding_expression_%s.png' %name, dpi=600)"
   ]
  },
  {
   "cell_type": "markdown",
   "metadata": {},
   "source": [
    "## Fig. 2-3b: Adding Genomics to Expression"
   ]
  },
  {
   "cell_type": "code",
   "execution_count": 70,
   "metadata": {},
   "outputs": [
    {
     "name": "stdout",
     "output_type": "stream",
     "text": [
      "Achilles median change -0.0028783779582421953 -0.003885647252359798\n",
      "Score median change -0.0036250012714274527 -0.00552462893596347\n"
     ]
    },
    {
     "name": "stderr",
     "output_type": "stream",
     "text": [
      "/Users/dempster/Library/Python/3.6/lib/python/site-packages/ipykernel_launcher.py:13: FutureWarning: \n",
      "Passing list-likes to .loc or [] with any missing label will raise\n",
      "KeyError in the future, you can use .reindex() as an alternative.\n",
      "\n",
      "See the documentation here:\n",
      "https://pandas.pydata.org/pandas-docs/stable/indexing.html#deprecate-loc-reindex-listlike\n",
      "  del sys.path[0]\n"
     ]
    },
    {
     "name": "stdout",
     "output_type": "stream",
     "text": [
      "RNAi median change 0.0029877761176769213 0.0042762560239433854\n",
      "PRISM median change -0.0005317125111402587 -0.000944485616117655\n",
      "GDSC17 median change -0.002603196335503377 -0.004457788141561021\n",
      "-0.002714513033313444\n"
     ]
    },
    {
     "data": {
      "image/png": "[encoded data removed]",
      "text/plain": [
       "<Figure size 252x252 with 1 Axes>"
      ]
     },
     "metadata": {
      "needs_background": "light"
     },
     "output_type": "display_data"
    }
   ],
   "source": [
    "pct_change = []\n",
    "for name in data_names:\n",
    "    plt.close('all')\n",
    "    plt.figure(figsize=(3.5, 3.5))\n",
    "    name_map = None\n",
    "    if name in ['PRISM', 'GDSC17']:\n",
    "        name_map = main[name]['pert_info']['Name'].drop_duplicates().replace(\n",
    "            {'bis(maltolato)oxovanadium(IV)': 'BMOV'})\n",
    "        \n",
    "    data = get_performance_change(main[name]['summary'], \n",
    "                              'All Expression', 'All Features',\n",
    "                              criterion='overall_pearson', min_original=.4, max_entries=20,\n",
    "                              name_map=name_map\n",
    "                             )\n",
    "    if name == 'CRISPR':\n",
    "        data['gene'] = data['gene'].apply(lambda s: s.split(' ')[0])\n",
    "    print(name, 'median change', data['change'].median(),\n",
    "         (data['change']/data['original']).median())\n",
    "    pct_change.extend(data['change']/data['original'])\n",
    "    sns.barplot(data=data, y='gene', x='change', palette='coolwarm_r')\n",
    "    plt.xlabel('Score Change with All')\n",
    "    plt.ylabel('')\n",
    "    sns.despine(top=True, right=True)\n",
    "    plt.xlim(-.3, .3)\n",
    "    plt.xticks([-.2, 0, .2])\n",
    "    plt.tight_layout()\n",
    "    plt.title(name)\n",
    "    #plt.subplots_adjust(right=.99)\n",
    "    plt.savefig('figures/adding_genomics_%s.png' %name, dpi=600)\n",
    "print(np.median(pct_change))"
   ]
  },
  {
   "cell_type": "markdown",
   "metadata": {},
   "source": [
    "# Fig. 3: Different Feature Combinations"
   ]
  },
  {
   "cell_type": "code",
   "execution_count": 63,
   "metadata": {},
   "outputs": [],
   "source": [
    "models_exp = set(['All Expression',  'CN+Exp', 'Expression',\n",
    "       'GSEA', 'All Features', 'Methylation+Exp',\n",
    "       'Mutation+Exp'])\n",
    "models_no_exp = set(['All Genomics', 'Copy Number',\n",
    "       'Tissue', \n",
    "       'Methylation', 'Mutation', 'CFE', 'Fusion'\n",
    " ])"
   ]
  },
  {
   "cell_type": "code",
   "execution_count": 64,
   "metadata": {},
   "outputs": [],
   "source": [
    "exp_colors = dict(zip(models_exp,\n",
    "                      [\n",
    "    'blue', 'royalblue', 'dodgerblue', 'deepskyblue', 'skyblue',   \n",
    "             'lightskyblue', 'powderblue', 'paleturquoise'\n",
    "                        ]\n",
    "))"
   ]
  },
  {
   "cell_type": "code",
   "execution_count": 65,
   "metadata": {},
   "outputs": [],
   "source": [
    "gen_colors = dict(zip(models_no_exp, \n",
    "    reversed(['brown', 'darkred',  'firebrick', 'red',  'tomato',  \n",
    "                                        'pink', 'coral' ])\n",
    "))"
   ]
  },
  {
   "cell_type": "markdown",
   "metadata": {},
   "source": [
    "## Fig 3a: Number Predictors > 0.4"
   ]
  },
  {
   "cell_type": "code",
   "execution_count": 66,
   "metadata": {},
   "outputs": [
    {
     "data": {
      "image/png": "[encoded data removed]",
      "text/plain": [
       "<Figure size 576x216 with 5 Axes>"
      ]
     },
     "metadata": {
      "needs_background": "light"
     },
     "output_type": "display_data"
    }
   ],
   "source": [
    "all_colors = copy.copy(exp_colors)\n",
    "all_colors.update(gen_colors)\n",
    "\n",
    "plt.close('all')\n",
    "fig, axs = plt.subplots(1, len(data_names), figsize=(8, 3))\n",
    "\n",
    "for name, ax in zip(data_names, axs):\n",
    "    plt.sca(ax)\n",
    "    df = main[name]['summary']\n",
    "    n_fair_models = (df.overall_pearson > .4).groupby(level=0).sum()\n",
    "    all_colors = copy.copy(exp_colors)\n",
    "    all_colors.update(gen_colors)\n",
    "    if name == data_names[0]:\n",
    "        order = n_fair_models.sort_values(ascending=True).index\n",
    "        order = [s for s in order if s in all_colors]\n",
    "        vlocations = dict(zip(order, range(len(n_fair_models))))\n",
    "        ind = n_fair_models.index\n",
    "    n_fair_models = n_fair_models.loc[order].fillna(0)\n",
    "    for model, score in n_fair_models.iteritems():\n",
    "        plt.bar(bottom=vlocations[model]+.5, height=.75, x=0, width=score, \n",
    "                color=all_colors[model], align='edge')\n",
    "\n",
    "\n",
    "    plt.yticks([])\n",
    "    sns.despine(top=True, right=True)\n",
    "    plt.gca().spines['left'].set_position('zero')\n",
    "    #plt.gca().spines['bottom'].set_position('zero')\n",
    "    plt.xlabel('')\n",
    "    plt.ylabel('')\n",
    "    if name is data_names[0]:\n",
    "        #plt.xlabel(\"Number Models > 0.4\")\n",
    "        plt.yticks(range(1, len(order)+1), order)\n",
    "    plt.title(name)\n",
    "fig.text(.5, .005, \"Number Models Scoring Above 0.4\", fontsize=9, ha='center')\n",
    "plt.tight_layout()\n",
    "plt.subplots_adjust(wspace=.08)\n",
    "plt.savefig(\"figures/number_fair_models.png\", dpi=600)"
   ]
  },
  {
   "cell_type": "markdown",
   "metadata": {},
   "source": [
    "## Fig 3b: Best Feature Combination"
   ]
  },
  {
   "cell_type": "code",
   "execution_count": 67,
   "metadata": {
    "scrolled": false
   },
   "outputs": [
    {
     "name": "stderr",
     "output_type": "stream",
     "text": [
      "/usr/local/lib/python3.6/site-packages/numpy/core/fromnumeric.py:56: FutureWarning: \n",
      "The current behaviour of 'Series.argmax' is deprecated, use 'idxmax'\n",
      "instead.\n",
      "The behavior of 'argmax' will be corrected to return the positional\n",
      "maximum in the future. For now, use 'series.values.argmax' or\n",
      "'np.argmax(np.array(values))' to get the position of the maximum\n",
      "row.\n",
      "  return getattr(obj, method)(*args, **kwds)\n",
      "/Users/dempster/Library/Python/3.6/lib/python/site-packages/ipykernel_launcher.py:20: FutureWarning: \n",
      "Passing list-likes to .loc or [] with any missing label will raise\n",
      "KeyError in the future, you can use .reindex() as an alternative.\n",
      "\n",
      "See the documentation here:\n",
      "https://pandas.pydata.org/pandas-docs/stable/indexing.html#deprecate-loc-reindex-listlike\n"
     ]
    },
    {
     "name": "stdout",
     "output_type": "stream",
     "text": [
      "Achilles 93.39774557165862\n",
      "Achilles 6.602254428341384\n",
      "Score 75.717017208413\n",
      "Score 24.282982791586992\n",
      "RNAi 96.72268907563024\n",
      "RNAi 3.2773109243697474\n",
      "PRISM 99.21259842519686\n",
      "PRISM 0.7874015748031495\n",
      "GDSC17 91.91176470588236\n",
      "GDSC17 8.088235294117647\n"
     ]
    },
    {
     "data": {
      "image/png": "[encoded data removed]",
      "text/plain": [
       "<Figure size 576x360 with 1 Axes>"
      ]
     },
     "metadata": {
      "needs_background": "light"
     },
     "output_type": "display_data"
    }
   ],
   "source": [
    "plt.close('all')\n",
    "plt.figure(figsize=(8, 5))\n",
    "x = 0\n",
    "exp_order, gen_order = None, None\n",
    "\n",
    "for name in data_names:\n",
    "    plt.text(x-.5, 100, name, fontsize=12, horizontalalignment='left')\n",
    "    \n",
    "    summary = main[name]['summary']\n",
    "    summary_restrict = summary.reset_index(\n",
    "        ).set_index('model').loc[list(models_exp | models_no_exp)]\n",
    "    winners = summary_restrict.groupby('gene').agg(\n",
    "        lambda x: np.argmax(x['overall_pearson']))\n",
    "    winners = winners.reset_index()\n",
    "    winners = summary.loc[list(winners[['overall_pearson', 'gene']].itertuples(\n",
    "        name=None, index=False))].reset_index().set_index('gene')\n",
    "\n",
    "    win_pct = winners[winners.overall_pearson > .4].groupby('model').count()['overall_pearson']\n",
    "    win_pct /= win_pct.sum()\n",
    "    win_pct = 100*win_pct.loc[sorted(models_exp) + sorted(models_no_exp)].fillna(0)\n",
    "    if exp_order is None:\n",
    "        exp_order = win_pct.loc[list(models_exp)].sort_values(ascending=False).index\n",
    "        gen_order = win_pct.loc[list(models_no_exp)].sort_values(ascending=False).index\n",
    "    exp_win = np.cumsum(win_pct.loc[exp_order])\n",
    "    gen_win = np.cumsum(win_pct.loc[gen_order])\n",
    "    \n",
    "    for i, index in enumerate(exp_win.index):\n",
    "        label = None\n",
    "        if name is data_names[0]:\n",
    "            label = index\n",
    "        if i == 0:\n",
    "            plt.bar(x=x, width=1, bottom=0, height=win_pct[index],\n",
    "                    color=exp_colors[index], label=label)\n",
    "        else:\n",
    "            plt.bar(x=x, width=1, bottom=exp_win.iloc[i-1], \n",
    "                    height=win_pct[index], color=exp_colors[index], label=label)\n",
    "    print(name, exp_win.iloc[i])\n",
    "    for i, index in enumerate(gen_win.index):\n",
    "        label = None\n",
    "        if name is data_names[0]:\n",
    "            label = index\n",
    "        if i == 0:\n",
    "            plt.bar(x=x+2, width=1, bottom=0, \n",
    "                    height=win_pct[index], color=gen_colors[index], label=label)\n",
    "        else:\n",
    "            plt.bar(x=x+2, width=1, bottom=gen_win.iloc[i-1], \n",
    "                    height=win_pct[index], color=gen_colors[index], label=label)\n",
    "    print(name, gen_win.iloc[i])     \n",
    "    x += 4\n",
    "        \n",
    "sns.despine(top=True, right=True)\n",
    "#plt.xlim(-1, 3.75)\n",
    "#plt.xticks([1, 2], ['Expression', 'No Expression'], fontsize=11, rotation=45)\n",
    "plt.yticks(range(0, 101, 20), fontsize=12)\n",
    "plt.xticks(range(0, 20, 2), [\"Expression\", \"No Expression\"]*5, rotation=45)\n",
    "plt.ylim(0, 100)\n",
    "plt.ylabel('Percent of Best Models', fontsize=14)\n",
    "\n",
    "plt.legend(frameon=False, loc=(.98, .15))\n",
    "plt.tight_layout()\n",
    "plt.subplots_adjust(right=.80)\n",
    "plt.savefig('figures/best_model_proportion.png', dpi=600)"
   ]
  },
  {
   "cell_type": "markdown",
   "metadata": {},
   "source": [
    "# Fig. 4: Predictor Sparsity"
   ]
  },
  {
   "cell_type": "markdown",
   "metadata": {},
   "source": [
    "## Fig. 4a: Feature importance vs performance"
   ]
  },
  {
   "cell_type": "code",
   "execution_count": 71,
   "metadata": {},
   "outputs": [],
   "source": [
    "top2_importance = pd.DataFrame(columns=['Data Set', 'Top2', 'Pearson'])\n",
    "for key in data_names:\n",
    "    df = main[key]['summary'].loc['All Features']\n",
    "    top2_importance = top2_importance.append(pd.DataFrame({\n",
    "        'Data Set': key,\n",
    "        'Top2': df[['feature0_importance', 'feature1_importance']].sum(axis=1).values,\n",
    "        'Pearson': df.overall_pearson.values\n",
    "    }), ignore_index=True)\n",
    "\n",
    "top2_importance['Top2'] = pd.cut(top2_importance['Top2'], bins=np.linspace(0, 1, 5))"
   ]
  },
  {
   "cell_type": "code",
   "execution_count": 72,
   "metadata": {},
   "outputs": [
    {
     "data": {
      "image/png": "[encoded data removed]",
      "text/plain": [
       "<Figure size 540x144 with 1 Axes>"
      ]
     },
     "metadata": {
      "needs_background": "light"
     },
     "output_type": "display_data"
    }
   ],
   "source": [
    "plt.close('all')\n",
    "\n",
    "sns.boxplot(data=top2_importance, x='Top2', y='Pearson', hue='Data Set')\n",
    "plt.xticks(np.arange(-.5, 3.7), np.round(np.arange(0, .8, .2), 1), rotation=00)\n",
    "plt.gcf().set_size_inches(7.5, 2.0)\n",
    "plt.xticks([])\n",
    "plt.ylim(-.2, .9)\n",
    "sns.despine(top=True, right=True)\n",
    "plt.xlabel(\"\")\n",
    "plt.ylabel(\"Model Performance\")\n",
    "plt.grid(axis='y')\n",
    "plt.tight_layout()\n",
    "plt.savefig('figures/top2_importance_box.png', dpi=600, transparent=True)"
   ]
  },
  {
   "cell_type": "code",
   "execution_count": 73,
   "metadata": {},
   "outputs": [
    {
     "data": {
      "image/png": "[encoded data removed]",
      "text/plain": [
       "<Figure size 540x126 with 1 Axes>"
      ]
     },
     "metadata": {
      "needs_background": "light"
     },
     "output_type": "display_data"
    }
   ],
   "source": [
    "plt.close('all')\n",
    "\n",
    "sns.countplot(data=top2_importance, x='Top2', hue='Data Set')\n",
    "plt.xticks(np.arange(-.5, 3.0), np.round(np.arange(0, .8, .2), 1), rotation=90)\n",
    "plt.gcf().set_size_inches(7.5, 1.75)\n",
    "plt.grid(axis='y')\n",
    "#plt.ylim(-.2, .9)\n",
    "sns.despine(top=True, right=True)\n",
    "plt.xlabel(\"Combined Importance of Top 2 Features\")\n",
    "plt.ylabel(\"Number Pert.\")\n",
    "plt.yscale('log')\n",
    "plt.gca().get_legend().remove()\n",
    "plt.xticks(rotation=0)\n",
    "plt.tight_layout()\n",
    "plt.savefig('figures/top2_importance_bin.png', dpi=600, transparent=True)"
   ]
  },
  {
   "cell_type": "markdown",
   "metadata": {},
   "source": [
    "## Fig. 4bc: Known relationships"
   ]
  },
  {
   "cell_type": "code",
   "execution_count": 74,
   "metadata": {},
   "outputs": [
    {
     "data": {
      "text/plain": [
       "29.0"
      ]
     },
     "execution_count": 74,
     "metadata": {},
     "output_type": "execute_result"
    }
   ],
   "source": [
    "gene_relations.groupby('target').partner.count().median()"
   ]
  },
  {
   "cell_type": "code",
   "execution_count": 75,
   "metadata": {},
   "outputs": [],
   "source": [
    "def check_related(x):\n",
    "    target = x['feature0'].split('_')[0]\n",
    "    try:\n",
    "        partners = gene_relations.loc[x['gene']].partner\n",
    "    except KeyError:\n",
    "        return False\n",
    "    if isinstance(partners, str):\n",
    "        partners = [partners]\n",
    "    return target in list(partners) or target == x['gene']\n"
   ]
  },
  {
   "cell_type": "code",
   "execution_count": 76,
   "metadata": {},
   "outputs": [],
   "source": [
    "for name in data_names:\n",
    "    summary = main[name]['summary']\n",
    "    endings = summary['feature0'].apply(lambda s: s.split('_')[-1])\n",
    "    def find_end(s):\n",
    "        if s.startswith('cna'):\n",
    "            return 'CNA'\n",
    "        else:\n",
    "            return s\n",
    "    endings = endings.apply(find_end)\n",
    "    sig_feature = (summary['feature0_importance'] > .1)\n",
    "    summary['exp_biomarker'] = ((endings == 'Exp') | (endings == 'GSEA')) & sig_feature\n",
    "\n",
    "    summary['gen_biomarker'] = (\n",
    "        (endings == 'OtherMut') |\n",
    "        (endings == 'Dam') |\n",
    "        (endings == 'Hot') |\n",
    "        (endings == 'MethTSS') |\n",
    "        (endings == 'MethCpG') |\n",
    "        (endings == 'CN') |\n",
    "        (endings == 'Fusion') |\n",
    "        (endings == 'Meth') |\n",
    "        (endings == 'CNA')\n",
    "    ) & sig_feature\n",
    "    \n",
    "    summary['tissue_biomarker'] = (endings == 'Cell') & sig_feature"
   ]
  },
  {
   "cell_type": "code",
   "execution_count": 77,
   "metadata": {},
   "outputs": [
    {
     "name": "stdout",
     "output_type": "stream",
     "text": [
      "Achilles How often exp biomarker is gene's own exp 0.25\n",
      "Score How often exp biomarker is gene's own exp 0.11374407582938388\n",
      "RNAi How often exp biomarker is gene's own exp 0.3135593220338983\n"
     ]
    }
   ],
   "source": [
    "for name in 'Achilles', 'Score', 'RNAi':\n",
    "    print(name, 'How often exp biomarker is gene\\'s own exp', main[name]['summary'].loc['All Features'].query(\n",
    "        'exp_biomarker')[['feature0']].apply(\n",
    "            lambda x: x.feature0.split('_')[0].split(' ')[0] == x.name.split(' ')[0],\n",
    "         axis=1).mean()\n",
    "        )\n",
    "    "
   ]
  },
  {
   "cell_type": "code",
   "execution_count": 78,
   "metadata": {},
   "outputs": [],
   "source": [
    "exp_biomarker_self = {key: main[key]['summary'].loc['All Features'].query('exp_biomarker')\n",
    "                     for key in data_names}\n",
    "\n",
    "exp_biomarker_self = {key: val.apply(lambda x: x.name == x['feature0'].split('_')[0], axis=1)\n",
    "                      for key, val in exp_biomarker_self.items()\n",
    "                     }"
   ]
  },
  {
   "cell_type": "code",
   "execution_count": 79,
   "metadata": {
    "scrolled": true
   },
   "outputs": [
    {
     "name": "stderr",
     "output_type": "stream",
     "text": [
      "/Users/dempster/Library/Python/3.6/lib/python/site-packages/ipykernel_launcher.py:5: FutureWarning: \n",
      "Passing list-likes to .loc or [] with any missing label will raise\n",
      "KeyError in the future, you can use .reindex() as an alternative.\n",
      "\n",
      "See the documentation here:\n",
      "https://pandas.pydata.org/pandas-docs/stable/indexing.html#deprecate-loc-reindex-listlike\n",
      "  \"\"\"\n"
     ]
    }
   ],
   "source": [
    "exp_biomarker_self_sr = {key: pd.Series({\n",
    "    'All Genes': val.mean(),\n",
    "    'SSV': val.loc[main[key]['SSV']].mean(),\n",
    "    'Pearson > 0.4': val.loc[main[key]['summary'].loc['All Features'].query('overall_pearson > .4').index].mean()\n",
    "    }) for key, val in exp_biomarker_self.items()}"
   ]
  },
  {
   "cell_type": "code",
   "execution_count": 80,
   "metadata": {
    "scrolled": false
   },
   "outputs": [
    {
     "name": "stdout",
     "output_type": "stream",
     "text": [
      "Achilles\n",
      "\tMean models with key features when Pearson < .4 0.013059074094832418\n",
      "\tTotal Pearson > 0.4 491\n",
      "\tPearson > 0.4 Exp Biomarker"
     ]
    },
    {
     "name": "stderr",
     "output_type": "stream",
     "text": [
      "/Users/dempster/Library/Python/3.6/lib/python/site-packages/ipykernel_launcher.py:27: FutureWarning: \n",
      "Passing list-likes to .loc or [] with any missing label will raise\n",
      "KeyError in the future, you can use .reindex() as an alternative.\n",
      "\n",
      "See the documentation here:\n",
      "https://pandas.pydata.org/pandas-docs/stable/indexing.html#deprecate-loc-reindex-listlike\n"
     ]
    },
    {
     "name": "stdout",
     "output_type": "stream",
     "text": [
      " 194\n",
      "\tPearson > 0.4 Gen Biomarker 22\n",
      "\tPearson > 0.4 Tiss Biomarker 0\n"
     ]
    },
    {
     "name": "stderr",
     "output_type": "stream",
     "text": [
      "/Users/dempster/Library/Python/3.6/lib/python/site-packages/ipykernel_launcher.py:36: FutureWarning: \n",
      "Passing list-likes to .loc or [] with any missing label will raise\n",
      "KeyError in the future, you can use .reindex() as an alternative.\n",
      "\n",
      "See the documentation here:\n",
      "https://pandas.pydata.org/pandas-docs/stable/indexing.html#deprecate-loc-reindex-listlike\n"
     ]
    },
    {
     "name": "stdout",
     "output_type": "stream",
     "text": [
      "Achilles \tExp biomarker is related gene 0.5078125\n",
      "Achilles \tExp biomarker is gene's own exp 0.25\n",
      "Score\n",
      "\tMean models with key features when Pearson < .4 0.01070345143380459\n",
      "\tTotal Pearson > 0.4 328\n",
      "\tPearson > 0.4 Exp Biomarker 75\n",
      "\tPearson > 0.4 Gen Biomarker 24\n",
      "\tPearson > 0.4 Tiss Biomarker 0\n",
      "Score \tExp biomarker is related gene 0.2938388625592417\n",
      "Score \tExp biomarker is gene's own exp 0.11374407582938388\n",
      "RNAi\n",
      "\tMean models with key features when Pearson < .4 0.006617289946576008\n",
      "\tTotal Pearson > 0.4 837\n",
      "\tPearson > 0.4 Exp Biomarker 143\n",
      "\tPearson > 0.4 Gen Biomarker 14\n",
      "\tPearson > 0.4 Tiss Biomarker 1\n",
      "RNAi \tExp biomarker is related gene 0.4067796610169492\n",
      "RNAi \tExp biomarker is gene's own exp 0.3135593220338983\n",
      "PRISM\n",
      "\tMean models with key features when Pearson < .4 0.00501964207769533\n",
      "\tTotal Pearson > 0.4 104\n",
      "\tPearson > 0.4 Exp Biomarker 27\n",
      "\tPearson > 0.4 Gen Biomarker 5\n",
      "\tPearson > 0.4 Tiss Biomarker 0\n",
      "GDSC17\n",
      "\tMean models with key features when Pearson < .4 0.043795620437956206\n",
      "\tTotal Pearson > 0.4 118\n",
      "\tPearson > 0.4 Exp Biomarker 26\n",
      "\tPearson > 0.4 Gen Biomarker 6\n",
      "\tPearson > 0.4 Tiss Biomarker 0\n"
     ]
    }
   ],
   "source": [
    "is_related = {}\n",
    "exp_biomarker_freq = {}\n",
    "exp_biomarker_related = {}\n",
    "\n",
    "for name in data_names:\n",
    "    print(name)\n",
    "    summary = main[name]['summary']\n",
    "    hv = main[name]['SSV']\n",
    "    \n",
    "    exp_biomarker_freq[name] =  pd.Series({\n",
    "            'All Genes': summary.loc['All Features'].exp_biomarker.mean(),\n",
    "            'SSV': summary.loc['All Features'].loc[hv].exp_biomarker.mean(),\n",
    "            'Pearson > 0.4': summary.loc['All Features'].query('overall_pearson > 0.4'\n",
    "                                                           ).exp_biomarker.mean(),\n",
    "        })\n",
    "    print('\\tMean models with key features when Pearson < .4',\n",
    "          (summary.loc['All Features'].query('overall_pearson < 0.4').feature0_importance >= .1).mean()\n",
    "         )\n",
    "    print('\\tTotal Pearson > 0.4', summary.loc['All Features'].query('overall_pearson > 0.4').shape[0])\n",
    "    print('\\tPearson > 0.4 Exp Biomarker', summary.loc['All Features'].query('overall_pearson > 0.4'\n",
    "                                                           ).exp_biomarker.sum())\n",
    "    print('\\tPearson > 0.4 Gen Biomarker', summary.loc['All Features'].query('overall_pearson > 0.4'\n",
    "                                                           ).gen_biomarker.sum())\n",
    "    print('\\tPearson > 0.4 Tiss Biomarker', summary.loc['All Features'].query('overall_pearson > 0.4'\n",
    "                                                           ).tissue_biomarker.sum())\n",
    "    if name in ['Achilles', 'Score', 'RNAi']:\n",
    "        exp_biomarker_freq[name]['OncoKB Genes'] = summary.loc['All Features'].loc[oncogene_list].exp_biomarker.mean()\n",
    "        \n",
    "\n",
    "    if name in ['Achilles', 'Score', 'RNAi']:\n",
    "        sub = summary.loc['All Features'].query('exp_biomarker').reset_index()\n",
    "        is_related[name] = sub.apply(check_related, axis=1)\n",
    "        is_related[name].index = sub.gene\n",
    "        exp_biomarker_related[name] = pd.Series({\n",
    "            'All Genes': is_related[name].mean(),\n",
    "            'SSV': is_related[name].loc[hv].mean(),\n",
    "            'Pearson > 0.4': is_related[name][(sub.overall_pearson > .4).values].mean(),\n",
    "        })\n",
    "        print(name, '\\tExp biomarker is related gene', is_related[name].mean())\n",
    "        print(name, '\\tExp biomarker is gene\\'s own exp', main[name]['summary'].loc['All Features'].query(\n",
    "        'exp_biomarker')[['feature0']].apply(\n",
    "            lambda x: x.feature0.split('_')[0].split(' ')[0] == x.name.split(' ')[0],\n",
    "         axis=1).mean()\n",
    "              \n",
    "        )"
   ]
  },
  {
   "cell_type": "code",
   "execution_count": 81,
   "metadata": {},
   "outputs": [
    {
     "data": {
      "text/plain": [
       "['Achilles', 'RNAi', 'Score']"
      ]
     },
     "execution_count": 81,
     "metadata": {},
     "output_type": "execute_result"
    }
   ],
   "source": [
    "sorted(exp_biomarker_related.keys())"
   ]
  },
  {
   "cell_type": "code",
   "execution_count": 82,
   "metadata": {},
   "outputs": [
    {
     "data": {
      "image/png": "[encoded data removed]",
      "text/plain": [
       "<Figure size 288x216 with 1 Axes>"
      ]
     },
     "metadata": {
      "needs_background": "light"
     },
     "output_type": "display_data"
    }
   ],
   "source": [
    "for subset in ['SSV', 'Pearson > 0.4']:\n",
    "    plt.close('all')\n",
    "    plt.figure(figsize=(4, 3.0))\n",
    "    for i, key in enumerate(data_names):\n",
    "        label = None\n",
    "\n",
    "        color = (.6, .7, .85)\n",
    "        if key in ['GDSC17', 'PRISM']:\n",
    "            color = (.3, .9, .6)\n",
    "        if i == 0:\n",
    "            label='Unknown Relationship'\n",
    "        elif key == 'PRISM':\n",
    "            label=\"Compound\"\n",
    "        plt.bar(x=i, y=0, width=.5, height=exp_biomarker_freq[key][subset], color=color, \n",
    "               label=label)\n",
    "\n",
    "        if key in ['GDSC17', 'PRISM']:\n",
    "            continue\n",
    "        if i == 0:\n",
    "            label = 'Known Relationship'\n",
    "        plt.bar(x=i, y=0, width=.5, \n",
    "                height=exp_biomarker_related[key][subset] * exp_biomarker_freq[key][subset], \n",
    "                color=(.65, .4, .6), label=label)\n",
    "\n",
    "        if i == 0:\n",
    "            label = 'Own Expression'\n",
    "        plt.bar(x=i, y=0, width=.5, \n",
    "                height=exp_biomarker_self_sr[key][subset] * exp_biomarker_freq[key][subset], \n",
    "                color=(.1, .2, .5), label=label)\n",
    "\n",
    "\n",
    "    plt.legend(frameon=False)\n",
    "    plt.ylabel(\"Key Expression Features\")\n",
    "    plt.xticks(range(len(data_names)), data_names, rotation=90)\n",
    "    sns.despine(top=True, right=True)\n",
    "    plt.tight_layout()\n",
    "    plt.savefig(\"figures/exp_bio_all_%s.png\" % subset.split(' ')[0], dpi=600)"
   ]
  },
  {
   "cell_type": "markdown",
   "metadata": {},
   "source": [
    "## Fig. 4de: Only One Feature"
   ]
  },
  {
   "cell_type": "code",
   "execution_count": 83,
   "metadata": {},
   "outputs": [],
   "source": [
    "keyfeature = {name: main[name]['summary'].loc['All Features']\\\n",
    "              .query('feature0_importance >= .1').index\n",
    "             for name in data_names}\n",
    "nokeyfeature = {name: main[name]['summary'].loc['All Features']\\\n",
    "              .query('feature0_importance < .1').index\n",
    "             for name in data_names}"
   ]
  },
  {
   "cell_type": "code",
   "execution_count": 84,
   "metadata": {},
   "outputs": [],
   "source": [
    "perf_ratios = pd.DataFrame(columns=['dataset', 'keyfeature', 'score'])\n",
    "for name, val in greedy_score.items():\n",
    "    perf_ratios = perf_ratios.append(pd.DataFrame({'dataset': name, 'keyfeature': val.index.isin(keyfeature[name]),\n",
    "                                                   'score': (val['1']/val['1000']).values}),\n",
    "                                    ignore_index=True)"
   ]
  },
  {
   "cell_type": "code",
   "execution_count": 85,
   "metadata": {},
   "outputs": [],
   "source": [
    "perf_ratios_EN = pd.DataFrame(columns=['dataset', 'keyfeature', 'score'])\n",
    "for name in data_names:\n",
    "    val = main[name]['EN_score']\n",
    "    perf_ratios_EN = perf_ratios_EN.append(pd.DataFrame({'dataset': name, 'keyfeature': val.index.isin(keyfeature[name]),\n",
    "                                                   'score': (val['1']/val['all']).values}),\n",
    "                                    ignore_index=True)"
   ]
  },
  {
   "cell_type": "code",
   "execution_count": 86,
   "metadata": {},
   "outputs": [
    {
     "name": "stdout",
     "output_type": "stream",
     "text": [
      "With key feature, ratio median 0.8427665176847172\n",
      "Without key feature, ratio median 0.6051869283560376\n"
     ]
    },
    {
     "data": {
      "image/png": "[encoded data removed]",
      "text/plain": [
       "<Figure size 576x180 with 2 Axes>"
      ]
     },
     "metadata": {
      "needs_background": "light"
     },
     "output_type": "display_data"
    }
   ],
   "source": [
    "figure, axs = plt.subplots(1, 2, figsize=(8, 2.0))\n",
    "\n",
    "plt.sca(axs[0])\n",
    "sns.boxplot(data=perf_ratios[perf_ratios.keyfeature == 1], x='dataset', y='score')\n",
    "print('With key feature, ratio median', perf_ratios[perf_ratios.keyfeature == 1]['score'].median())\n",
    "sns.despine()\n",
    "plt.grid(axis='y')\n",
    "plt.ylabel(\"Ratio of Model Scores\")\n",
    "plt.xlabel('')\n",
    "plt.title('Key Features')\n",
    "plt.ylim(0, 1.2)\n",
    "                                \n",
    "plt.sca(axs[1])\n",
    "sns.boxplot(data=perf_ratios[perf_ratios.keyfeature == 0], x='dataset', y='score')\n",
    "print('Without key feature, ratio median', perf_ratios[perf_ratios.keyfeature == 0]['score'].median())\n",
    "sns.despine()\n",
    "plt.grid(axis='y')\n",
    "plt.ylabel(\"\")\n",
    "plt.xlabel('')\n",
    "plt.title('No Key Feature') \n",
    "plt.ylim(0, 1.2)\n",
    "                                \n",
    "                                \n",
    "plt.gcf().set_size_inches(8, 2.5)\n",
    "plt.tight_layout()\n",
    "plt.savefig('figures/one_feature_scores.png', dpi=600)"
   ]
  },
  {
   "cell_type": "markdown",
   "metadata": {},
   "source": [
    "# Fig. 4-1: Feature Ablation"
   ]
  },
  {
   "cell_type": "code",
   "execution_count": 87,
   "metadata": {},
   "outputs": [
    {
     "data": {
      "image/png": "[encoded data removed]",
      "text/plain": [
       "<Figure size 273.6x252 with 1 Axes>"
      ]
     },
     "metadata": {
      "needs_background": "light"
     },
     "output_type": "display_data"
    }
   ],
   "source": [
    "for name, val in greedy_score.items():\n",
    "    pal = sns.cubehelix_palette(len(val), start=np.random.uniform(-2, 2), dark=.2, light=.7)\n",
    "    plt.close('all')\n",
    "    plt.figure(figsize=(3.8, 3.5))\n",
    "    for i, ind in enumerate(val.sort_values('1').index):\n",
    "        plt.plot(np.arange(val.shape[1]), val.loc[ind], color=pal[i], lw=.4)\n",
    "    sns.despine()\n",
    "    plt.xticks(range(val.shape[1]), val.columns)\n",
    "    plt.xlabel(\"Features Used\")\n",
    "    plt.ylabel(\"Model Score for Perturbation\")\n",
    "    plt.title(name)\n",
    "    plt.tight_layout()\n",
    "    plt.savefig('figures/feature_addition_score_%s.png' % name, dpi=600)"
   ]
  },
  {
   "cell_type": "code",
   "execution_count": 88,
   "metadata": {},
   "outputs": [
    {
     "name": "stdout",
     "output_type": "stream",
     "text": [
      "0.1401938851603281\n"
     ]
    }
   ],
   "source": [
    "print((perf_ratios[perf_ratios.keyfeature == 0].score > .8).mean())"
   ]
  },
  {
   "cell_type": "code",
   "execution_count": 89,
   "metadata": {},
   "outputs": [
    {
     "name": "stdout",
     "output_type": "stream",
     "text": [
      "0.6201117318435754\n"
     ]
    }
   ],
   "source": [
    "print((perf_ratios[perf_ratios.keyfeature == 1].score > .8).mean())"
   ]
  },
  {
   "cell_type": "markdown",
   "metadata": {},
   "source": [
    "# Fig. 4-2: Additional Feature Ablation"
   ]
  },
  {
   "cell_type": "markdown",
   "metadata": {},
   "source": [
    "## Fig. 4-2a: Ratio with Two Features"
   ]
  },
  {
   "cell_type": "code",
   "execution_count": 90,
   "metadata": {},
   "outputs": [],
   "source": [
    "perf_ratios2 = pd.DataFrame(columns=['dataset', 'keyfeature', 'score'])\n",
    "for name, val in greedy_score.items():\n",
    "    perf_ratios2 = perf_ratios2.append(pd.DataFrame({'dataset': name, \n",
    "                                                   'keyfeature': val.index.isin(keyfeature[name]),\n",
    "                                                   'score': (val['2']/val['1000']).values}),\n",
    "                                    ignore_index=True)"
   ]
  },
  {
   "cell_type": "code",
   "execution_count": 91,
   "metadata": {},
   "outputs": [
    {
     "name": "stdout",
     "output_type": "stream",
     "text": [
      "With key feature, ratio median 0.8966997163129784\n",
      "Without key feature, ratio median 0.7386364789493804\n"
     ]
    },
    {
     "data": {
      "image/png": "[encoded data removed]",
      "text/plain": [
       "<Figure size 576x180 with 2 Axes>"
      ]
     },
     "metadata": {
      "needs_background": "light"
     },
     "output_type": "display_data"
    }
   ],
   "source": [
    "figure, axs = plt.subplots(1, 2, figsize=(8, 2.0))\n",
    "\n",
    "plt.sca(axs[0])\n",
    "sns.boxplot(data=perf_ratios2[perf_ratios2.keyfeature == 1], x='dataset', y='score')\n",
    "print('With key feature, ratio median', perf_ratios2[perf_ratios2.keyfeature == 1]['score'].median())\n",
    "sns.despine()\n",
    "plt.grid(axis='y')\n",
    "plt.ylabel(\"Ratio of Model Scores\")\n",
    "plt.xlabel('')\n",
    "plt.title('Top Feature Importance > 0.1')\n",
    "plt.ylim(0, 1.2)\n",
    "                                \n",
    "plt.sca(axs[1])\n",
    "sns.boxplot(data=perf_ratios2[perf_ratios2.keyfeature == 0], x='dataset', y='score')\n",
    "print('Without key feature, ratio median', perf_ratios2[perf_ratios2.keyfeature == 0]['score'].median())\n",
    "sns.despine()\n",
    "plt.grid(axis='y')\n",
    "plt.ylabel(\"\")\n",
    "plt.xlabel('')\n",
    "plt.title('Top Feature Importance <= 0.1') \n",
    "plt.ylim(0, 1.2)\n",
    "                                \n",
    "                                \n",
    "plt.gcf().set_size_inches(8, 2.5)\n",
    "plt.tight_layout()\n",
    "plt.savefig('figures/two_feature_scores.png', dpi=600)"
   ]
  },
  {
   "cell_type": "code",
   "execution_count": 92,
   "metadata": {},
   "outputs": [
    {
     "name": "stdout",
     "output_type": "stream",
     "text": [
      "0.313944817300522\n"
     ]
    }
   ],
   "source": [
    "print((perf_ratios2[perf_ratios2.keyfeature == 0].score > .8).mean())"
   ]
  },
  {
   "cell_type": "code",
   "execution_count": 93,
   "metadata": {},
   "outputs": [
    {
     "name": "stdout",
     "output_type": "stream",
     "text": [
      "0.8361266294227188\n"
     ]
    }
   ],
   "source": [
    "print((perf_ratios2[perf_ratios2.keyfeature == 1].score > .8).mean())"
   ]
  },
  {
   "cell_type": "markdown",
   "metadata": {},
   "source": [
    "## Fig. 4-2b: EN with only one feature"
   ]
  },
  {
   "cell_type": "code",
   "execution_count": 94,
   "metadata": {},
   "outputs": [
    {
     "name": "stdout",
     "output_type": "stream",
     "text": [
      "With key feature, ratio median 0.7994976881970535\n",
      "Without key feature, ratio median 0.30592507753267933\n"
     ]
    },
    {
     "data": {
      "image/png": "[encoded data removed]",
      "text/plain": [
       "<Figure size 576x180 with 2 Axes>"
      ]
     },
     "metadata": {
      "needs_background": "light"
     },
     "output_type": "display_data"
    }
   ],
   "source": [
    "figure, axs = plt.subplots(1, 2, figsize=(8, 2.0))\n",
    "\n",
    "plt.sca(axs[0])\n",
    "sns.boxplot(data=perf_ratios_EN[perf_ratios_EN.keyfeature == 1], x='dataset', y='score')\n",
    "print('With key feature, ratio median', perf_ratios_EN[perf_ratios_EN.keyfeature == 1]['score'].median())\n",
    "sns.despine()\n",
    "plt.grid(axis='y')\n",
    "plt.ylabel(\"Ratio of Model Scores\")\n",
    "plt.xlabel('')\n",
    "plt.title('RF Top Feature Importance > 0.1')\n",
    "plt.ylim(-.2, 1.4)\n",
    "                                \n",
    "plt.sca(axs[1])\n",
    "sns.boxplot(data=perf_ratios_EN[perf_ratios_EN.keyfeature == 0], x='dataset', y='score')\n",
    "print('Without key feature, ratio median', perf_ratios_EN[perf_ratios_EN.keyfeature == 0]['score'].median())\n",
    "sns.despine()\n",
    "plt.grid(axis='y')\n",
    "plt.ylabel(\"\")\n",
    "plt.xlabel('')\n",
    "plt.title('RF Top Feature Importance <= 0.1') \n",
    "plt.ylim(-.4, 1.4)\n",
    "                                \n",
    "                                \n",
    "plt.gcf().set_size_inches(8, 2.5)\n",
    "plt.tight_layout()\n",
    "plt.savefig('figures/one_feature_scores_EN.png', dpi=600)"
   ]
  },
  {
   "cell_type": "markdown",
   "metadata": {},
   "source": [
    "## Fig. 4-2c: EN Feature Ablation"
   ]
  },
  {
   "cell_type": "code",
   "execution_count": 95,
   "metadata": {},
   "outputs": [
    {
     "data": {
      "image/png": "[encoded data removed]",
      "text/plain": [
       "<Figure size 187.2x180 with 1 Axes>"
      ]
     },
     "metadata": {
      "needs_background": "light"
     },
     "output_type": "display_data"
    }
   ],
   "source": [
    "for name in data_names:\n",
    "    val = main[name]['EN_score'].query('all > 0.4')\n",
    "    pal = sns.cubehelix_palette(len(val), start=np.random.uniform(-2, 2), dark=.2, light=.7)\n",
    "    plt.close('all')\n",
    "    plt.figure(figsize=(2.6, 2.5))\n",
    "    for i, ind in enumerate(val.sort_values('1').index):\n",
    "        plt.plot(np.arange(val.shape[1]), val.loc[ind], color=pal[i], lw=.75)\n",
    "    sns.despine()\n",
    "    plt.xticks(range(val.shape[1]), val.columns)\n",
    "    plt.xlabel(\"Features Used\")\n",
    "    plt.ylabel(\"Model Score\")\n",
    "    plt.title(name)\n",
    "    plt.tight_layout()\n",
    "    plt.savefig('figures/EN_feature_addition_score_%s.png' % name, dpi=600)"
   ]
  },
  {
   "cell_type": "markdown",
   "metadata": {},
   "source": [
    "# Fig. 5: Removing Key Features"
   ]
  },
  {
   "cell_type": "code",
   "execution_count": 96,
   "metadata": {},
   "outputs": [],
   "source": [
    "feature_change = {name: (removed_features[name] \n",
    "                    - main[name]['summary'].loc['Expression'].loc[\n",
    "                        removed_features[name].index, \n",
    "                        'overall_pearson'\n",
    "                    ])\n",
    "                       for name in data_names}"
   ]
  },
  {
   "cell_type": "code",
   "execution_count": 97,
   "metadata": {
    "scrolled": true
   },
   "outputs": [
    {
     "name": "stderr",
     "output_type": "stream",
     "text": [
      "/usr/local/lib/python3.6/site-packages/numpy/core/fromnumeric.py:56: FutureWarning: Series.nonzero() is deprecated and will be removed in a future version.Use Series.to_numpy().nonzero() instead\n",
      "  return getattr(obj, method)(*args, **kwds)\n"
     ]
    },
    {
     "name": "stdout",
     "output_type": "stream",
     "text": [
      "Achilles -27.34 505\n",
      "correlation with unfiltered performance (-0.4146429800993494, 2.1049381867241044e-22)\n",
      "correlation with feature0 importance (-0.4146429800993494, 2.1049381867241044e-22)\n",
      "21 11\n",
      "                             feature0  feature0_importance  overall_pearson\n",
      "gene                                                                       \n",
      "SLF1 (84250)       SIMC1 (375484)_Exp             0.476858         0.555092\n",
      "DNAJC19 (131118)  DNAJC15 (29103)_Exp             0.527688         0.621500\n",
      "FAM50A (9130)      FAM50B (26240)_Exp             0.721516         0.800423\n",
      "MPL (4352)         ERMAP (114625)_Exp             0.103903         0.364740\n",
      "INTS6 (26512)     INTS6L (203522)_Exp             0.497595         0.623239\n",
      "\n",
      "\n",
      "Score -66.11 290\n",
      "correlation with unfiltered performance (-0.5848392906942735, 5.2845470010054135e-28)\n",
      "correlation with feature0 importance (-0.5848392906942735, 5.2845470010054135e-28)\n",
      "12 0\n",
      "                             feature0  feature0_importance  overall_pearson\n",
      "gene                                                                       \n",
      "FAM126B (285172)  FAM126A (84668)_Exp             0.547863         0.629880\n",
      "FAM50A (9130)      FAM50B (26240)_Exp             0.790941         0.854733\n",
      "DNAJC19 (131118)  DNAJC15 (29103)_Exp             0.601182         0.665952\n",
      "DDX19A (55308)     DDX19B (11269)_Exp             0.500459         0.618258\n",
      "INTS6 (26512)     INTS6L (203522)_Exp             0.522232         0.624922\n",
      "\n",
      "\n",
      "RNAi -26.86 350\n",
      "correlation with unfiltered performance (-0.22926055350390306, 1.4805807154169753e-05)\n",
      "correlation with feature0 importance (-0.22926055350390306, 1.4805807154169753e-05)\n",
      "5 3\n",
      "                                                    feature0  \\\n",
      "gene                                                           \n",
      "RPL22L1 (200916)                        RPL22L1 (200916)_Exp   \n",
      "DNAJC19 (131118)                         DNAJC15 (29103)_Exp   \n",
      "LOC107984064&GUSBP4 (107984064&375513)        NBN (4683)_Exp   \n",
      "EIF3CL&EIF3C (728689&8663)                  EIF3C (8663)_Exp   \n",
      "GSPT1 (2935)                               GSPT2 (23708)_Exp   \n",
      "\n",
      "                                        feature0_importance  overall_pearson  \n",
      "gene                                                                          \n",
      "RPL22L1 (200916)                                   0.456591         0.662016  \n",
      "DNAJC19 (131118)                                   0.349935         0.490573  \n",
      "LOC107984064&GUSBP4 (107984064&375513)             0.110643         0.065964  \n",
      "EIF3CL&EIF3C (728689&8663)                         0.174665         0.511992  \n",
      "GSPT1 (2935)                                       0.357793         0.526714  \n",
      "\n",
      "\n",
      "PRISM -47.18 66\n",
      "correlation with unfiltered performance (-0.5092671985000053, 1.2607445532510338e-05)\n",
      "correlation with feature0 importance (-0.5092671985000053, 1.2607445532510338e-05)\n",
      "1 0\n",
      "                                  feature0  feature0_importance  \\\n",
      "gene                                                              \n",
      "BRD-K36234266-001-09-8     MGMT (4255)_Exp             0.206982   \n",
      "BRD-K97714174-001-01-3    GSTA1 (2938)_Exp             0.151808   \n",
      "BRD-K43449605-001-01-0  SULT1A1 (6817)_Exp             0.558162   \n",
      "BRD-K92723993-001-06-7   PDGFRA (5156)_Exp             0.152628   \n",
      "BRD-K07955840-001-02-3    ABCB1 (5243)_Exp             0.407925   \n",
      "\n",
      "                        overall_pearson  \n",
      "gene                                     \n",
      "BRD-K36234266-001-09-8         0.362404  \n",
      "BRD-K97714174-001-01-3         0.436787  \n",
      "BRD-K43449605-001-01-0         0.689458  \n",
      "BRD-K92723993-001-06-7         0.244385  \n",
      "BRD-K07955840-001-02-3         0.551193  \n",
      "                               Name  \\\n",
      "BRD-K36234266-001-09-8   Carmustine   \n",
      "BRD-K97714174-001-01-3       P22077   \n",
      "BRD-K43449605-001-01-0   Oncrasin-1   \n",
      "BRD-K92723993-001-06-7     Imatinib   \n",
      "BRD-K07955840-001-02-3  PF-05212384   \n",
      "\n",
      "                                                                      moa  \\\n",
      "BRD-K36234266-001-09-8                DNA alkylating agent, DNA inhibitor   \n",
      "BRD-K97714174-001-01-3              ubiquitin specific protease inhibitor   \n",
      "BRD-K43449605-001-01-0                                apoptosis stimulant   \n",
      "BRD-K92723993-001-06-7  Bcr-Abl kinase inhibitor, KIT inhibitor, PDGFR...   \n",
      "BRD-K07955840-001-02-3                     mTOR inhibitor, PI3K inhibitor   \n",
      "\n",
      "                                                                   target  \\\n",
      "BRD-K36234266-001-09-8                                                GSR   \n",
      "BRD-K97714174-001-01-3                                               USP7   \n",
      "BRD-K43449605-001-01-0                                                NaN   \n",
      "BRD-K92723993-001-06-7  ABL1, CSF1R, DDR1, KIT, NTRK1, PDGFRA, PDGFRB,...   \n",
      "BRD-K07955840-001-02-3                                       MTOR, PIK3CA   \n",
      "\n",
      "                                                               indication  \n",
      "BRD-K36234266-001-09-8  non-Hodgkin lymphoma (NHL), Hodgkin's lymphoma...  \n",
      "BRD-K97714174-001-01-3                                                NaN  \n",
      "BRD-K43449605-001-01-0                                                NaN  \n",
      "BRD-K92723993-001-06-7  chronic myeloid leukemia (CML), acute lymphobl...  \n",
      "BRD-K07955840-001-02-3                                                NaN  \n",
      "\n",
      "\n",
      "GDSC17 -6.66 49\n",
      "correlation with unfiltered performance (-0.4455575621816783, 0.001335392487060531)\n",
      "correlation with feature0 importance (-0.4455575621816783, 0.001335392487060531)\n",
      "0 0\n",
      "                feature0  feature0_importance  overall_pearson\n",
      "gene                                                          \n",
      "1166    ABCB1 (5243)_Exp             0.485935         0.647090\n",
      "60      ABCB1 (5243)_Exp             0.184783         0.393264\n",
      "1003  SLFN11 (91607)_Exp             0.280764         0.573922\n",
      "1259  SLFN11 (91607)_Exp             0.248899         0.543857\n",
      "268     ABCB1 (5243)_Exp             0.150400         0.516392\n",
      "              Name  Putative Target  Targeted process/pathway\n",
      "1166    QL-VIII-58              NaN                       NaN\n",
      "60         BI-2536              NaN                       NaN\n",
      "1003  Camptothecin              NaN                       NaN\n",
      "1259       BMN-673              NaN                       NaN\n",
      "268          YM155              NaN                       NaN\n",
      "\n",
      "\n"
     ]
    },
    {
     "name": "stderr",
     "output_type": "stream",
     "text": [
      "/usr/local/lib/python3.6/site-packages/pandas/core/indexing.py:1494: FutureWarning: \n",
      "Passing list-likes to .loc or [] with any missing label will raise\n",
      "KeyError in the future, you can use .reindex() as an alternative.\n",
      "\n",
      "See the documentation here:\n",
      "https://pandas.pydata.org/pandas-docs/stable/indexing.html#deprecate-loc-reindex-listlike\n",
      "  return self._getitem_tuple(key)\n"
     ]
    },
    {
     "data": {
      "image/png": "[encoded data removed]",
      "text/plain": [
       "<Figure size 576x720 with 10 Axes>"
      ]
     },
     "metadata": {
      "needs_background": "light"
     },
     "output_type": "display_data"
    }
   ],
   "source": [
    "fig, axs = plt.subplots(3, 2, figsize=(8, 10))\n",
    "axs = [a for ax in axs for a in ax]\n",
    "total_below = 0\n",
    "total_above = 0\n",
    "for name, ax in zip(data_names, axs):\n",
    "    plt.sca(ax)\n",
    "    plt.title(name)\n",
    "    y = feature_change[name]\n",
    "    x = main[name]['summary'].loc['Expression'].loc[y.index, 'feature0_importance']\n",
    "    total_below += (y < 0).sum()\n",
    "    total_above += (y > 0).sum()\n",
    "    outliers = y.sort_values().index[:5]\n",
    "    arr = np.array([x.values, y.values])\n",
    "    density = gaussian_kde(arr)(arr)\n",
    "    plt.scatter(x, y, alpha=.5, linewidth=1, c=density)\n",
    "    plt.colorbar(label=\"Density\")\n",
    "    plt.plot(plt.gca().get_xlim(), [0, 0], '--', color='black')\n",
    "    if name in ['PRISM', 'GDSC17']:\n",
    "        labels = {s: main[name]['pert_info']['Name'].drop_duplicates()[s]\n",
    "                 for s in outliers}\n",
    "\n",
    "    else:\n",
    "        labels = {s: s.split(' ')[0] for s in outliers}\n",
    "    texts = [plt.text(s=labels[s], x=x.loc[s], y=y.loc[s], fontsize=8)\n",
    "              for s in outliers]\n",
    "    adjust_text(texts, x=x, y=y)\n",
    "    plt.ylabel(\"Change Without Key Features\")\n",
    "    plt.xlabel(\"Top Feature Importance\")\n",
    "    sns.despine(top=True, right=True)\n",
    "    print(name, '%1.2f' % (100*y.median()/x.median()), len(y))\n",
    "    print('correlation with unfiltered performance', pearsonr(x, y))\n",
    "    feature0 = main[name]['summary'].loc['Expression'].loc[y.index, 'feature0_importance']\n",
    "    print('correlation with feature0 importance', pearsonr(y, feature0 ))\n",
    "    print((feature0 > .5).sum(), (y[feature0 > .5] > -.1).sum())\n",
    "    print(main[name]['summary'].loc['Expression'].loc[labels, [\n",
    "        'feature0', 'feature0_importance', 'overall_pearson'\n",
    "    ]])\n",
    "    if name == 'PRISM':\n",
    "        print(main[name]['pert_info'].loc[labels, [\n",
    "            'Name', 'moa', 'target', 'indication'\n",
    "        ]].drop_duplicates())\n",
    "    if name == 'GDSC17':\n",
    "        print(main[name]['pert_info'].loc[labels, [\n",
    "            'Name', 'Putative Target',  'Targeted process/pathway'\n",
    "        ]])\n",
    "    print('\\n')\n",
    "axs[-1].remove()\n",
    "plt.tight_layout()\n",
    "plt.savefig(\"figures/removing_key_expression.png\", dpi=400)"
   ]
  },
  {
   "cell_type": "code",
   "execution_count": 98,
   "metadata": {},
   "outputs": [
    {
     "name": "stdout",
     "output_type": "stream",
     "text": [
      "1133 127 0.8992063492063492\n"
     ]
    }
   ],
   "source": [
    "print(total_below, total_above, total_below/(total_above + total_below))"
   ]
  },
  {
   "cell_type": "markdown",
   "metadata": {},
   "source": [
    "# Fig. 6: Interpretable Models"
   ]
  },
  {
   "cell_type": "markdown",
   "metadata": {},
   "source": [
    "## Additional Utility functions"
   ]
  },
  {
   "cell_type": "code",
   "execution_count": 99,
   "metadata": {},
   "outputs": [],
   "source": [
    "def clamp(x): \n",
    "    return max(0, min(x, 255))\n",
    "\n",
    "def hexcolor(r, g, b, alpha=1):\n",
    "    if all([s <= 1.0 for s in (r, g, b)]):\n",
    "        r = int(r*256)\n",
    "        g = int(g*256)\n",
    "        b = int(b*256)\n",
    "    return \"#{0:02x}{1:02x}{2:02x}\".format(clamp(r), clamp(g), clamp(b))"
   ]
  },
  {
   "cell_type": "code",
   "execution_count": 100,
   "metadata": {},
   "outputs": [],
   "source": [
    "import re\n",
    "def split_label(s, split_char='_', length=15):\n",
    "    if len(s) <= length:\n",
    "        return s\n",
    "    possible_splits = s.split(split_char)\n",
    "    rows = []\n",
    "    row = None\n",
    "    for split in possible_splits:\n",
    "        if not row:\n",
    "            row = split\n",
    "            continue\n",
    "        if len(row) < length:\n",
    "            row = '_'.join([row, split])\n",
    "        else:\n",
    "            rows.append(row)\n",
    "            row = split\n",
    "    rows.append(row)\n",
    "    return '\\\\n'.join(rows)\n",
    "            "
   ]
  },
  {
   "cell_type": "code",
   "execution_count": 101,
   "metadata": {},
   "outputs": [],
   "source": [
    "cdict = {\n",
    "    'red': [\n",
    "        (0, .8, .8),\n",
    "        (.6, 1, 1),\n",
    "        (1, .3, .3)\n",
    "    ],\n",
    "    'green': [\n",
    "        (0, .3, .3),\n",
    "        (.6, 1, 1),\n",
    "        (1, .4, .4)\n",
    "    ],\n",
    "    'blue': [\n",
    "        (0, .1, .1),\n",
    "        (.6, 1, 1),\n",
    "        (1, .8, .8)\n",
    "    ]\n",
    "}\n",
    "\n",
    "tree_cmap = LinearSegmentedColormap('DepTree', cdict)"
   ]
  },
  {
   "cell_type": "code",
   "execution_count": 102,
   "metadata": {},
   "outputs": [],
   "source": [
    "def colorscale(x):\n",
    "    return (np.clip(x, -1.5, 1) + 1.5)/2.5"
   ]
  },
  {
   "cell_type": "code",
   "execution_count": 103,
   "metadata": {},
   "outputs": [],
   "source": [
    "def pearson_score(model, x, y, folds=10):\n",
    "    splitter = KFold(folds, shuffle=True)\n",
    "    splits = splitter.split(x)\n",
    "    oos = 0 * y\n",
    "    \n",
    "    for train, test in splits:\n",
    "        if isinstance(x, pd.DataFrame):\n",
    "            model.fit(x.iloc[train], y.iloc[train])\n",
    "            oos.iloc[test] = model.predict(x.iloc[test])\n",
    "        else:\n",
    "            model.fit(x[train], y[train])\n",
    "            oos[test] = model.predict(x[test])\n",
    "    return pearsonr(oos, y)[0]"
   ]
  },
  {
   "cell_type": "code",
   "execution_count": 104,
   "metadata": {},
   "outputs": [],
   "source": [
    "def keep_features(summary_row, max_features=3, min_importance=.01, min_start_importance=.1):\n",
    "    if summary_row['feature0_importance'] < min_start_importance:\n",
    "        return []\n",
    "    return [summary_row['feature%i' % i] for i in range(max_features) \n",
    "            if summary_row['feature%i_importance' %i] > min_importance]"
   ]
  },
  {
   "cell_type": "code",
   "execution_count": 105,
   "metadata": {},
   "outputs": [],
   "source": [
    "def gene_label_responder(x):\n",
    "    if x < -1:\n",
    "        return \"Strong Sensitivity\"\n",
    "    if x < -.5:\n",
    "        return \"Sensitivity\"\n",
    "    if x < -.25:\n",
    "        return \"Weak Sensitivity\"\n",
    "    if x < .25:\n",
    "        return \"Insensitive\"\n",
    "    return \"Outgrowth\"\n",
    "\n",
    "def lfc_label_responder(x):\n",
    "    if x < -2:\n",
    "        return \"Strong Sensitivity\"\n",
    "    if x < -1:\n",
    "        return \"Sensitivity\"\n",
    "    if x < -.5:\n",
    "        return \"Weak Sensitivity\"\n",
    "    if x < 1:\n",
    "        return \"Insensitive\"\n",
    "    return \"Outgrowth\"\n",
    "\n",
    "def gdsc_label_responder(x):\n",
    "    if x < .2:\n",
    "        return \"Strong Sensitivity\"\n",
    "    if x < .35:\n",
    "        return \"Sensitivity\"\n",
    "    if x < .5:\n",
    "        return \"Weak Sensitivity\"\n",
    "    return \"Insensitive\"\n",
    "\n",
    "def edit_dot_data(dot_data, responder_labeling=None, color_scale_min=-1.5, color_scale_max=1, cmap=tree_cmap):\n",
    "    lines = dot_data.split('\\n')\n",
    "    first = True\n",
    "    for i in range(1, len(lines)-1):\n",
    "        line = lines[i]\n",
    "        if '->' in line:\n",
    "            if 'False' in line:\n",
    "                lines[i] = line.replace('False', 'True')\n",
    "            else:\n",
    "                lines[i] = line.replace('True', 'False')\n",
    "            continue\n",
    "            \n",
    "        elif line.startswith('node') or line.startswith('edge'):\n",
    "            continue\n",
    "        #line is a node\n",
    "        node_core = line.split('[')[1].split(']')[0].split(', ')\n",
    "        #print(node_core)\n",
    "        node_core = dict([v.split('=\"') for v in node_core])\n",
    "        rows = node_core['label'].replace('\"', '').strip().split('\\\\n')\n",
    "        mean = float(rows[-1])\n",
    "        if cmap is not None:\n",
    "            color = hexcolor(*tree_cmap(np.clip(\n",
    "                     (mean - color_scale_min)\n",
    "                    /(color_scale_max - color_scale_min),\n",
    "                0, 1)))\n",
    "            node_core['fillcolor'] = color\n",
    "        labeling = False\n",
    "        if len(rows) < 4 and not responder_labeling is None:\n",
    "            labeling = True\n",
    "            try:\n",
    "                rows.insert(0, responder_labeling(mean))\n",
    "            except ValueError:\n",
    "                print(line)\n",
    "                print(rows)\n",
    "                assert False\n",
    "        if '<=' in rows[0]:\n",
    "            rows[0] = rows[0].split('<=')[0]\n",
    "        if rows[0].startswith(\"WARTERS_RESPONSE_TO_IR_SKIN_GSEA\"):\n",
    "            rows[0] = 'WARTERS_IR_SKIN' + ' '.join(rows[0].split(' ')[1:])\n",
    "        elif '(' in rows[0] and ')' in rows[0]:\n",
    "            rows[0] = rows[0].split('(')[0] + rows[0].split(')')[1]\n",
    "        rows[0] = split_label(rows[0])\n",
    "        if first:\n",
    "            rows[2] = 'N = %i' % int(rows[2])\n",
    "            rows[3] = 'Mean = %1.2f' % float(rows[3])\n",
    "        if not labeling:\n",
    "            node_core['label'] = '\\\\n'.join([rows[2], rows[3], rows[0].strip()])\n",
    "        else:\n",
    "            node_core['label'] = '\\\\n'.join([rows[2], rows[3]])\n",
    "        lines[i] = line.split('[')[0] +\\\n",
    "                '[' + \\\n",
    "                ', '.join('%s=\"%s\"' % tup for tup in node_core.items()) +\\\n",
    "                ']' + \\\n",
    "                line.split(']')[1]\n",
    "                \n",
    "            \n",
    "        #print(lines[i])\n",
    "    return '\\n'.join(lines) "
   ]
  },
  {
   "cell_type": "code",
   "execution_count": 106,
   "metadata": {},
   "outputs": [],
   "source": [
    "def interpretable_models(summary, feature_matrix, target, tree_model,\n",
    "                        responder_labeling=None, color_scale_min=-1.5, color_scale_max=1, cmap=tree_cmap\n",
    "                        ):\n",
    "    '''\n",
    "    Parameters:\n",
    "        summary (`pd.DataFrame`): ensemble prediction summary for a specific model, with genes as the index.\n",
    "        feature_matrix (`pd.DataFrame`): matrix of features, will column names corresponding to entries\n",
    "            in summary\n",
    "        target (`pd.DataFrame`): target viability response indexed by cell line. Indices of summary must be\n",
    "                present in the columns of target.\n",
    "    Returns:\n",
    "        {\n",
    "            scores: OOS scores of either a decision tree or linear model with 10X validation. Note the decision \n",
    "                    trees get binarized data for continuous features, and the binary splits are picked with all\n",
    "                    the data, so the cross-validation is not totally blind to the held-out data.\n",
    "            trees: DOT-formatted graphs of the decision tree models. \n",
    "            binplots: arguments for calling binplot for the linear models.\n",
    "        }\n",
    "    '''\n",
    "    features = summary.apply(keep_features, axis=1)\n",
    "    all_features = sorted(set.union(*[set(v) for v in features.values]))\n",
    "    \n",
    "    scores = {}\n",
    "    trees = {}\n",
    "    binplots = {}\n",
    "    \n",
    "    stump = DecisionTreeRegressor(max_depth=1)\n",
    "    linear = LinearRegression()\n",
    "    for name, feat in features.iteritems():\n",
    "        if len(feat) == 0:\n",
    "            continue\n",
    "        x = feature_matrix[feat].dropna(how='any', axis=0)\n",
    "        y = target[name].dropna()\n",
    "        shared = sorted(set(x.index) & set(y.index))\n",
    "        if len(shared) < 20:\n",
    "            continue\n",
    "        x = x.loc[shared]\n",
    "        y = y.loc[shared]\n",
    "        tree_model.fit(x, y)\n",
    "        nfeatures = len(set(tree_model.tree_.feature) - set([-2]))\n",
    "        if nfeatures > 1:\n",
    "            continuous = x.nunique().loc[lambda x: x > 2].index\n",
    "            for v in continuous:\n",
    "                stump.fit(x[[v]].values, y.values)\n",
    "                threshold = np.round(stump.tree_.threshold[0], 2)\n",
    "                x[v] = x[v] > threshold\n",
    "                ind = list(x.columns).index(v)\n",
    "                x.columns = list(x.columns[:ind]) + [v + ' > %1.2f' % threshold] + list(x.columns[ind+1:])\n",
    "            tree_model.fit(x, y)\n",
    "            trees[name] = edit_dot_data(\n",
    "                export_graphviz(tree_model, None, feature_names=x.columns, label=name, \n",
    "                                filled=True, rounded=True\n",
    "                               ),\n",
    "                responder_labeling, color_scale_min, color_scale_max, cmap\n",
    "            )\n",
    "            scores[name] = pearson_score(tree_model, x.values, y.values)\n",
    "        else:\n",
    "            scores[name] = pearson_score(linear, x.values, y.values)\n",
    "            binplots[name] = dict(\n",
    "                scatter=dict(x=x.iloc[:, 0], y=y), \n",
    "                xlabel=x.columns[0], ylabel=name\n",
    "            )\n",
    "            \n",
    "    return {'scores': scores, 'trees': trees, 'binplots': binplots}"
   ]
  },
  {
   "cell_type": "markdown",
   "metadata": {},
   "source": [
    "## Highlighted Perturbations"
   ]
  },
  {
   "cell_type": "code",
   "execution_count": 107,
   "metadata": {},
   "outputs": [],
   "source": [
    "main['PRISM']['pert_info'].drop_duplicates(inplace=True)"
   ]
  },
  {
   "cell_type": "code",
   "execution_count": 108,
   "metadata": {},
   "outputs": [],
   "source": [
    "perts = ['MDM2 (4193)', 'TP53 (7157)', 'PARD6B (84612)',\n",
    "         'Nutlin', 'Idasanutlin', 'Vemurafenib', 'Dabrafenib', \n",
    "        ]\n",
    "def pert_lookup(s):\n",
    "    s = str(s)\n",
    "    for pert in perts:\n",
    "        if s.startswith(pert):\n",
    "            return True\n",
    "    return False"
   ]
  },
  {
   "cell_type": "code",
   "execution_count": 109,
   "metadata": {
    "scrolled": false
   },
   "outputs": [
    {
     "name": "stdout",
     "output_type": "stream",
     "text": [
      "Achilles \n",
      " gene\n",
      "MDM2 (4193)       0.767779\n",
      "PARD6B (84612)    0.587798\n",
      "TP53 (7157)       0.713595\n",
      "Name: overall_pearson, dtype: float64\n",
      "Achilles 3 (693, 3) 0.6000279171246906\n",
      "Score \n",
      " gene\n",
      "MDM2 (4193)       0.560042\n",
      "PARD6B (84612)    0.476231\n",
      "TP53 (7157)       0.638605\n",
      "Name: overall_pearson, dtype: float64\n"
     ]
    },
    {
     "name": "stderr",
     "output_type": "stream",
     "text": [
      "/usr/local/lib/python3.6/site-packages/sklearn/linear_model/base.py:509: RuntimeWarning: internal gelsd driver lwork query error, required iwork dimension not returned. This is likely the result of LAPACK bug 0038, fixed in LAPACK 3.2.2 (released July 21, 2010). Falling back to 'gelss' driver.\n",
      "  linalg.lstsq(X, y)\n"
     ]
    },
    {
     "name": "stdout",
     "output_type": "stream",
     "text": [
      "Score 3 (241, 3) 0.35723457828873595\n",
      "RNAi \n",
      " gene\n",
      "MDM2 (4193)       0.766509\n",
      "PARD6B (84612)    0.128126\n",
      "TP53 (7157)       0.725269\n",
      "Name: overall_pearson, dtype: float64\n",
      "RNAi 3 (655, 3) 0.3670603757979505\n",
      "PRISM \n",
      " gene\n",
      "BRD-A12230535-001-06-7    0.457015\n",
      "BRD-K09951645-001-06-8    0.527914\n",
      "BRD-K56343971-001-10-6    0.426450\n",
      "BRD-K62627508-001-01-5    0.749466\n",
      "Name: overall_pearson, dtype: float64\n",
      "PRISM 4 (571, 4) 0.935088563171694\n",
      "GDSC17 \n",
      " gene\n",
      "1047    0.736246\n",
      "1373    0.600266\n",
      "Name: overall_pearson, dtype: float64\n",
      "GDSC17 2 (674, 2) 0.24724799562402508\n"
     ]
    }
   ],
   "source": [
    "interpretable = {}\n",
    "for name in data_names:\n",
    "\n",
    "    if name in ('PRISM', 'GDSC17'):\n",
    "        perts2 = main[name]['pert_info'].index[\n",
    "            main[name]['pert_info']['Name'].apply(pert_lookup)\n",
    "        ]\n",
    "    else:\n",
    "        perts2 = perts\n",
    "    summary = main[name]['summary'].loc['All Features']\n",
    "    \n",
    "    # comment the following line and uncomment the next to generate an interpretable model for all \n",
    "    # perturbations with an all-feature predictor scoring above 0.4 and a key feature,\n",
    "    # rather than just those highlighted in the paper. This may take some time.\n",
    "    summary = summary[summary.index.isin(perts2)]\n",
    "#   summary = summary.query('overall_pearson > .4').query('feature0_importance > .1')\n",
    "    \n",
    "    print(name, '\\n', summary['overall_pearson'])\n",
    "    \n",
    "    feat = read_hdf5(join(figshare, name+\"Features.hdf5\"))\n",
    "    observed = main[name]['y'][summary.index]\n",
    "    if observed.shape[1] == 0:\n",
    "        continue\n",
    "    std = observed.stack().std()\n",
    "    model = DecisionTreeRegressor(max_depth=4, min_impurity_decrease=std/50, min_samples_leaf=5)\n",
    "    print(name, len(summary), observed.shape, std)\n",
    "    \n",
    "    if name in ['Achilles', 'Score', 'RNAi']:\n",
    "        responder_labeling = gene_label_responder\n",
    "        color_scale_min=-1.5\n",
    "        color_scale_max=1\n",
    "        \n",
    "    elif name == 'GDSC17':\n",
    "        responder_labeling = gdsc_label_responder\n",
    "        color_scale_min=0\n",
    "        color_scale_max=1\n",
    "        summary = summary.copy()\n",
    "        summary.index = main[name]['pert_info'].loc[summary.index, 'Name'].drop_duplicates()\n",
    "        observed = observed.copy()\n",
    "        observed.columns = summary.index\n",
    "        \n",
    "    elif name == 'PRISM':\n",
    "        responder_labeling = lfc_label_responder\n",
    "        color_scale_min=-3\n",
    "        color_scale_max=2\n",
    "        summary = summary.copy()\n",
    "        summary.index = main[name]['pert_info'].loc[summary.index, 'Name'].drop_duplicates()\n",
    "        observed = observed.copy()\n",
    "        observed.columns = summary.index\n",
    "        \n",
    "    interpretable[name] = interpretable_models(summary, feat, observed, model,\n",
    "                                             responder_labeling, color_scale_min, color_scale_max\n",
    "                                             )\n",
    "    del feat"
   ]
  },
  {
   "cell_type": "code",
   "execution_count": 110,
   "metadata": {},
   "outputs": [],
   "source": [
    "interpretable_path = join('figures', 'interpretable_models')\n",
    "if not os.path.isdir(interpretable_path):\n",
    "    os.mkdir(interpretable_path)"
   ]
  },
  {
   "cell_type": "code",
   "execution_count": 111,
   "metadata": {
    "scrolled": true
   },
   "outputs": [
    {
     "name": "stdout",
     "output_type": "stream",
     "text": [
      "Achilles\n",
      "saving figures/interpretable_models/Achilles/MDM2 (4193)\n",
      "saving figures/interpretable_models/Achilles/TP53 (7157)\n",
      "Score\n",
      "saving figures/interpretable_models/Score/MDM2 (4193)\n",
      "saving figures/interpretable_models/Score/TP53 (7157)\n",
      "RNAi\n",
      "saving figures/interpretable_models/RNAi/MDM2 (4193)\n",
      "saving figures/interpretable_models/RNAi/TP53 (7157)\n",
      "PRISM\n",
      "saving figures/interpretable_models/PRISM/Nutlin-3\n",
      "saving figures/interpretable_models/PRISM/Dabrafenib\n",
      "saving figures/interpretable_models/PRISM/Idasanutlin\n",
      "GDSC17\n",
      "saving figures/interpretable_models/GDSC17/Nutlin-3a\n"
     ]
    },
    {
     "name": "stderr",
     "output_type": "stream",
     "text": [
      "/Users/dempster/Library/Python/3.6/lib/python/site-packages/ipykernel_launcher.py:73: FutureWarning: \n",
      "Passing list-likes to .loc or [] with any missing label will raise\n",
      "KeyError in the future, you can use .reindex() as an alternative.\n",
      "\n",
      "See the documentation here:\n",
      "https://pandas.pydata.org/pandas-docs/stable/indexing.html#deprecate-loc-reindex-listlike\n",
      "/usr/local/lib/python3.6/site-packages/matplotlib/colors.py:478: UserWarning: Warning: converting a masked element to nan.\n",
      "  xa = np.array([X])\n",
      "/usr/local/lib/python3.6/site-packages/matplotlib/colors.py:478: UserWarning: Warning: converting a masked element to nan.\n",
      "  xa = np.array([X])\n",
      "/usr/local/lib/python3.6/site-packages/matplotlib/colors.py:478: UserWarning: Warning: converting a masked element to nan.\n",
      "  xa = np.array([X])\n",
      "/usr/local/lib/python3.6/site-packages/matplotlib/colors.py:478: UserWarning: Warning: converting a masked element to nan.\n",
      "  xa = np.array([X])\n",
      "/usr/local/lib/python3.6/site-packages/matplotlib/colors.py:478: UserWarning: Warning: converting a masked element to nan.\n",
      "  xa = np.array([X])\n",
      "/usr/local/lib/python3.6/site-packages/matplotlib/colors.py:478: UserWarning: Warning: converting a masked element to nan.\n",
      "  xa = np.array([X])\n"
     ]
    },
    {
     "data": {
      "image/png": "[encoded data removed]",
      "text/plain": [
       "<Figure size 288x158.4 with 2 Axes>"
      ]
     },
     "metadata": {
      "needs_background": "light"
     },
     "output_type": "display_data"
    }
   ],
   "source": [
    "for key, val in interpretable.items():\n",
    "    print(key)\n",
    "    sub_path = join(interpretable_path, key)\n",
    "    if not os.path.isdir(sub_path):\n",
    "        os.mkdir(sub_path)\n",
    "    for name, value in val['trees'].items():\n",
    "        graph = Source(value)\n",
    "        print('saving', join(sub_path, name))\n",
    "        graph.render(join(sub_path, name))\n",
    "    for name, value in val['binplots'].items():\n",
    "        plt.close('all')\n",
    "        plt.figure(figsize=(4.0, 2.2))\n",
    "        binplot(**value['scatter'], nbins=8)\n",
    "        xlabel = value['xlabel']\n",
    "        \n",
    "        plt.xlabel(xlabel)\n",
    "        plt.ylabel(value['ylabel'])\n",
    "        plt.xticks(rotation=0)\n",
    "        if key in ['Achilles', 'Score', 'RNAi']:\n",
    "            plt.plot(plt.gca().get_xlim(), [0, 0], '--', color='black')\n",
    "            plt.plot(plt.gca().get_xlim(), [-1, -1], '--', color='red')\n",
    "            plt.ylabel(value['ylabel'].split(' ')[0] + 'Gene Effect')\n",
    "            plt.xlabel(value['xlabel'].split(' ')[0] + 'Expression (log2(TPM+1))')\n",
    "        sns.despine(top=True, right=True)\n",
    "        plt.tight_layout()\n",
    "        plt.savefig(join(sub_path, name) + \".pdf\")"
   ]
  },
  {
   "cell_type": "markdown",
   "metadata": {},
   "source": [
    "## Fig. 6c, 6-1: p53/MDM2"
   ]
  },
  {
   "cell_type": "code",
   "execution_count": 112,
   "metadata": {},
   "outputs": [
    {
     "name": "stdout",
     "output_type": "stream",
     "text": [
      "Achilles\n",
      "\tEDA2R exp and TP53 dep (0.6367560326830607, 4.541112958018131e-80) 693\n",
      "\tEDA2R exp and MDM2 dep (-0.6617781302722979, 1.6132380927559105e-88) 693\n",
      "Score\n",
      "\tEDA2R exp and TP53 dep (0.5463226084969235, 3.744081518623566e-20) 241\n",
      "\tEDA2R exp and MDM2 dep (-0.465222165651052, 2.401683694985112e-14) 241\n",
      "RNAi\n",
      "\tEDA2R exp and TP53 dep (0.6202814887915288, 6.702406586736879e-71) 655\n",
      "\tEDA2R exp and MDM2 dep (-0.6162245631213006, 9.561044317078795e-70) 655\n"
     ]
    },
    {
     "data": {
      "image/png": "[encoded data removed]",
      "text/plain": [
       "<Figure size 288x158.4 with 2 Axes>"
      ]
     },
     "metadata": {
      "needs_background": "light"
     },
     "output_type": "display_data"
    }
   ],
   "source": [
    "for name in ['Achilles', 'Score', 'RNAi']:\n",
    "    print(name)\n",
    "    x = read_hdf5(join(figshare, name + 'Features.hdf5'))['EDA2R (60401)_Exp'].dropna()\n",
    "    for gene in 'TP53 (7157)', 'MDM2 (4193)':\n",
    "        y = main[name]['y'][gene].dropna()\n",
    "        shared = sorted(set(x.index) & set(y.index))\n",
    "        print('\\tEDA2R exp and %s dep' % gene.split(' ')[0], pearsonr(x.loc[shared], y.loc[shared]), len(shared))\n",
    "        plt.close('all')\n",
    "        plt.figure(figsize=(4, 2.2))\n",
    "        binplot(x.loc[shared], y.loc[shared])\n",
    "        plt.xticks(rotation=90)\n",
    "        plt.xlabel(\"EDA2R Expression\")\n",
    "        plt.ylabel(\"%s Gene Effect\" % gene.split(' ')[0])\n",
    "        sns.despine(top=True, right=True)\n",
    "        plt.tight_layout()\n",
    "        plt.savefig(join('figures', 'interpretable_models', name, '%s_EDA2R_Exp.png' % (gene.split(' ')[0])),\n",
    "                    dpi=600)"
   ]
  },
  {
   "cell_type": "code",
   "execution_count": 113,
   "metadata": {},
   "outputs": [
    {
     "name": "stdout",
     "output_type": "stream",
     "text": [
      "PRISM\n",
      "\tEDA2R exp and Nutlin-3 vulnerability (-0.3576858786437869, 7.313609406773771e-18) 544\n",
      "\tEDA2R exp and Idasanutlin vulnerability (-0.5778997546599071, 9.73491548649817e-52) 566\n",
      "GDSC17\n",
      "\tEDA2R exp and Nutlin-3a vulnerability (-0.4949925173269823, 1.3402153327426754e-34) 538\n"
     ]
    },
    {
     "data": {
      "image/png": "[encoded data removed]",
      "text/plain": [
       "<Figure size 288x158.4 with 2 Axes>"
      ]
     },
     "metadata": {
      "needs_background": "light"
     },
     "output_type": "display_data"
    }
   ],
   "source": [
    "for name in ['PRISM', 'GDSC17']:\n",
    "    print(name)\n",
    "    x = read_hdf5(join(figshare, name+\"Features.hdf5\"))['EDA2R (60401)_Exp'].dropna()\n",
    "    for drug in 'Nutlin', 'Idasanutlin':\n",
    "        drug_name = [s for s in main[name]['pert_info']['Name'] if str(s).startswith(drug)]\n",
    "        if len(drug_name) == 0:\n",
    "            continue\n",
    "        drug = main[name]['pert_info'].query('Name == %r' % drug_name).index[0]\n",
    "    \n",
    "        y = main[name]['y'][drug].dropna()\n",
    "        shared = sorted(set(x.index) & set(y.index))\n",
    "        print('\\tEDA2R exp and %s vulnerability' % drug_name[0], \n",
    "              pearsonr(x.loc[shared], y.loc[shared]), len(shared))\n",
    "        plt.close('all')\n",
    "        plt.figure(figsize=(4, 2.2))\n",
    "        binplot(x.loc[shared], y.loc[shared])\n",
    "        plt.xticks(rotation=90)\n",
    "        plt.xlabel(\"EDA2R Expression\")\n",
    "        plt.ylabel(\"%s Effect\" % drug_name[0])\n",
    "        sns.despine(top=True, right=True)\n",
    "        plt.tight_layout()\n",
    "        plt.savefig(join('figures', 'interpretable_models', name, \n",
    "                         '%s_EDA2R.png' % drug_name[0]\n",
    "                        ), dpi=600\n",
    "                   )"
   ]
  },
  {
   "cell_type": "markdown",
   "metadata": {},
   "source": [
    "## Fig. 6-2: BRAF Inhibitors vs RXRG in subcontexts"
   ]
  },
  {
   "cell_type": "code",
   "execution_count": 114,
   "metadata": {},
   "outputs": [
    {
     "name": "stdout",
     "output_type": "stream",
     "text": [
      "PRISM hot N=59 RXRG correlation with Dabrafenib sensitivity (-0.41818529734583987, 0.0009812128864018091)\n"
     ]
    },
    {
     "name": "stderr",
     "output_type": "stream",
     "text": [
      "/Users/dempster/Library/Python/3.6/lib/python/site-packages/ipykernel_launcher.py:73: FutureWarning: \n",
      "Passing list-likes to .loc or [] with any missing label will raise\n",
      "KeyError in the future, you can use .reindex() as an alternative.\n",
      "\n",
      "See the documentation here:\n",
      "https://pandas.pydata.org/pandas-docs/stable/indexing.html#deprecate-loc-reindex-listlike\n",
      "/usr/local/lib/python3.6/site-packages/matplotlib/colors.py:478: UserWarning: Warning: converting a masked element to nan.\n",
      "  xa = np.array([X])\n"
     ]
    },
    {
     "name": "stdout",
     "output_type": "stream",
     "text": [
      "PRISM melanoma N=38 RXRG correlation with Dabrafenib sensitivity (-0.4110416454618075, 0.010358851308206114)\n"
     ]
    },
    {
     "name": "stderr",
     "output_type": "stream",
     "text": [
      "/usr/local/lib/python3.6/site-packages/matplotlib/colors.py:478: UserWarning: Warning: converting a masked element to nan.\n",
      "  xa = np.array([X])\n"
     ]
    },
    {
     "name": "stdout",
     "output_type": "stream",
     "text": [
      "PRISM melanoma_hot N=30 RXRG correlation with Dabrafenib sensitivity (-0.3463771773822327, 0.06078028504203376)\n"
     ]
    },
    {
     "name": "stderr",
     "output_type": "stream",
     "text": [
      "/usr/local/lib/python3.6/site-packages/matplotlib/colors.py:478: UserWarning: Warning: converting a masked element to nan.\n",
      "  xa = np.array([X])\n"
     ]
    },
    {
     "name": "stdout",
     "output_type": "stream",
     "text": [
      "PRISM hot N=63 RXRG correlation with Vemurafenib sensitivity (-0.49516149618507216, 3.695965100674975e-05)\n"
     ]
    },
    {
     "name": "stderr",
     "output_type": "stream",
     "text": [
      "/usr/local/lib/python3.6/site-packages/matplotlib/colors.py:478: UserWarning: Warning: converting a masked element to nan.\n",
      "  xa = np.array([X])\n"
     ]
    },
    {
     "name": "stdout",
     "output_type": "stream",
     "text": [
      "PRISM melanoma N=42 RXRG correlation with Vemurafenib sensitivity (-0.25278308221701257, 0.10628135169667459)\n"
     ]
    },
    {
     "name": "stderr",
     "output_type": "stream",
     "text": [
      "/usr/local/lib/python3.6/site-packages/matplotlib/colors.py:478: UserWarning: Warning: converting a masked element to nan.\n",
      "  xa = np.array([X])\n"
     ]
    },
    {
     "name": "stdout",
     "output_type": "stream",
     "text": [
      "PRISM melanoma_hot N=33 RXRG correlation with Vemurafenib sensitivity (-0.1614725810701252, 0.3693272111829081)\n"
     ]
    },
    {
     "name": "stderr",
     "output_type": "stream",
     "text": [
      "/usr/local/lib/python3.6/site-packages/matplotlib/colors.py:478: UserWarning: Warning: converting a masked element to nan.\n",
      "  xa = np.array([X])\n"
     ]
    },
    {
     "name": "stdout",
     "output_type": "stream",
     "text": [
      "GDSC17 hot N=61 RXRG correlation with Dabrafenib sensitivity (-0.44280586070495637, 0.00035218871837762526)\n"
     ]
    },
    {
     "name": "stderr",
     "output_type": "stream",
     "text": [
      "/usr/local/lib/python3.6/site-packages/matplotlib/colors.py:478: UserWarning: Warning: converting a masked element to nan.\n",
      "  xa = np.array([X])\n",
      "/usr/local/lib/python3.6/site-packages/matplotlib/colors.py:478: UserWarning: Warning: converting a masked element to nan.\n",
      "  xa = np.array([X])\n"
     ]
    },
    {
     "name": "stdout",
     "output_type": "stream",
     "text": [
      "GDSC17 melanoma N=31 RXRG correlation with Dabrafenib sensitivity (-0.018274424475463843, 0.9222702514366019)\n"
     ]
    },
    {
     "name": "stderr",
     "output_type": "stream",
     "text": [
      "/usr/local/lib/python3.6/site-packages/matplotlib/colors.py:478: UserWarning: Warning: converting a masked element to nan.\n",
      "  xa = np.array([X])\n",
      "/usr/local/lib/python3.6/site-packages/matplotlib/colors.py:478: UserWarning: Warning: converting a masked element to nan.\n",
      "  xa = np.array([X])\n"
     ]
    },
    {
     "name": "stdout",
     "output_type": "stream",
     "text": [
      "GDSC17 melanoma_hot N=25 RXRG correlation with Dabrafenib sensitivity (-0.05047216433402558, 0.8106455712280098)\n"
     ]
    },
    {
     "name": "stderr",
     "output_type": "stream",
     "text": [
      "/usr/local/lib/python3.6/site-packages/matplotlib/colors.py:478: UserWarning: Warning: converting a masked element to nan.\n",
      "  xa = np.array([X])\n",
      "/usr/local/lib/python3.6/site-packages/matplotlib/colors.py:478: UserWarning: Warning: converting a masked element to nan.\n",
      "  xa = np.array([X])\n"
     ]
    },
    {
     "data": {
      "image/png": "[encoded data removed]",
      "text/plain": [
       "<Figure size 288x158.4 with 2 Axes>"
      ]
     },
     "metadata": {
      "needs_background": "light"
     },
     "output_type": "display_data"
    }
   ],
   "source": [
    "for name in \"PRISM\", \"GDSC17\":\n",
    "    feat = read_hdf5(join(figshare, name + \"Features.hdf5\"))\n",
    "    contexts = {'hot': feat.index[feat['BRAF (673)_Hot'] == 1], \n",
    "               'melanoma': lineages.reindex(index=main[name]['y'].index).query(\n",
    "                   \"lineage_subtype == 'melanoma'\"\n",
    "               ).index}\n",
    "    contexts['melanoma_hot'] = sorted(set(contexts['melanoma']) & set(contexts['hot']))\n",
    "    for drugroot in 'Dabrafenib', 'Vemurafenib':\n",
    "        for context, sub in contexts.items():\n",
    "            info = main[name]['pert_info'].query('Name == %r' % drugroot)\n",
    "            if len(info) == 0:\n",
    "                continue\n",
    "            drug = info.index[0]\n",
    "            drug_sensitivity = main[name]['y'][drug]   \n",
    "            drug_sensitivity_sub = drug_sensitivity.reindex(\n",
    "                index=sorted(set(drug_sensitivity.dropna().index) & set(feat.index) & set(sub))\n",
    "            )\n",
    "\n",
    "            print(name, context, \"N=%i\" % len(drug_sensitivity_sub),\n",
    "                  \"RXRG correlation with %s sensitivity\" % drugroot,\n",
    "                 pearsonr(feat['RXRG (6258)_Exp'].reindex(index=drug_sensitivity_sub.index),\n",
    "                          drug_sensitivity_sub)\n",
    "                 )\n",
    "\n",
    "            plt.close('all')\n",
    "            binplot(feat['RXRG (6258)_Exp'].reindex(index=drug_sensitivity_sub.index), \n",
    "                    drug_sensitivity_sub)\n",
    "            plt.xlabel(\"RXRG Expression\")\n",
    "            plt.ylabel(\"%s Sensitivity\" % drugroot)\n",
    "            plt.gcf().set_size_inches((4, 2.2))\n",
    "            sns.despine(top=True, right=True)\n",
    "            plt.tight_layout()\n",
    "            plt.savefig(join(interpretable_path, name, \"%s_rxrg_%s.png\" % (drugroot, context)), dpi=600)\n",
    "    del feat"
   ]
  },
  {
   "cell_type": "markdown",
   "metadata": {},
   "source": [
    "## BRAF vs RXRG in Melanoma"
   ]
  },
  {
   "cell_type": "code",
   "execution_count": 115,
   "metadata": {},
   "outputs": [
    {
     "name": "stdout",
     "output_type": "stream",
     "text": [
      "45\n",
      "Achilles RXRG correlation with BRAF sensitivity within melanoma lines (-0.3740809836543162, 0.011359269329033254)\n",
      "43\n",
      "RNAi RXRG correlation with BRAF sensitivity within melanoma lines (-0.3856957167483422, 0.010639182663601043)\n"
     ]
    },
    {
     "name": "stderr",
     "output_type": "stream",
     "text": [
      "/Users/dempster/Library/Python/3.6/lib/python/site-packages/ipykernel_launcher.py:73: FutureWarning: \n",
      "Passing list-likes to .loc or [] with any missing label will raise\n",
      "KeyError in the future, you can use .reindex() as an alternative.\n",
      "\n",
      "See the documentation here:\n",
      "https://pandas.pydata.org/pandas-docs/stable/indexing.html#deprecate-loc-reindex-listlike\n",
      "/usr/local/lib/python3.6/site-packages/matplotlib/colors.py:478: UserWarning: Warning: converting a masked element to nan.\n",
      "  xa = np.array([X])\n"
     ]
    },
    {
     "data": {
      "image/png": "[encoded data removed]",
      "text/plain": [
       "<Figure size 288x158.4 with 2 Axes>"
      ]
     },
     "metadata": {
      "needs_background": "light"
     },
     "output_type": "display_data"
    }
   ],
   "source": [
    "for name in \"Achilles\", \"RNAi\":\n",
    "    feat = read_hdf5(join(figshare, name + \"Features.hdf5\"))\n",
    "    y = main[name]['y']['BRAF (673)']\n",
    "    sub = lineages.loc[y.index].query(\"lineage_subtype == 'melanoma'\").index\n",
    "    print(len(sub))\n",
    "    print(name, \"RXRG correlation with BRAF sensitivity within melanoma lines\",\n",
    "         pearsonr(feat['RXRG (6258)_Exp'].loc[sub], y.loc[sub])\n",
    "         )\n",
    "\n",
    "    plt.close('all')\n",
    "    binplot(feat['RXRG (6258)_Exp'].loc[sub], y.loc[sub])\n",
    "    plt.xlabel(\"RXRG Expression\")\n",
    "    plt.ylabel(\"%s Sensitivity\" % 'BRAF')\n",
    "    plt.gcf().set_size_inches((4, 2.2))\n",
    "    sns.despine(top=True, right=True)\n",
    "    plt.tight_layout()\n",
    "    plt.savefig(join(interpretable_path, name, \"%s_RXRG_melanoma.png\" % 'BRAF'), dpi=600)\n",
    "        \n",
    "    del feat"
   ]
  },
  {
   "cell_type": "markdown",
   "metadata": {},
   "source": [
    "## Fig. 6-3: PARD6B in OV and PANC"
   ]
  },
  {
   "cell_type": "code",
   "execution_count": 116,
   "metadata": {},
   "outputs": [
    {
     "name": "stdout",
     "output_type": "stream",
     "text": [
      "Achilles\n",
      "\tPARD6B exp and PARD6B dep (-0.44398657983602696, 7.730202271250618e-35) 693\n",
      "\tPARD6B exp and PARD6B dep in OV and PANC (-0.5529498535490119, 1.4758484199396593e-06) 66\n",
      "Score\n",
      "\tPARD6B exp and PARD6B dep (-0.365169767368012, 5.142389090845625e-09) 241\n",
      "\tPARD6B exp and PARD6B dep in OV and PANC (-0.43405119379132706, 0.0028922470896164754) 45\n",
      "RNAi\n",
      "\tPARD6B exp and PARD6B dep (-0.3094773450609095, 2.7755856717428503e-08) 309\n",
      "\tPARD6B exp and PARD6B dep in OV and PANC (-0.558687114643262, 0.24916119351289442) 6\n"
     ]
    },
    {
     "name": "stderr",
     "output_type": "stream",
     "text": [
      "/Users/dempster/Library/Python/3.6/lib/python/site-packages/ipykernel_launcher.py:73: FutureWarning: \n",
      "Passing list-likes to .loc or [] with any missing label will raise\n",
      "KeyError in the future, you can use .reindex() as an alternative.\n",
      "\n",
      "See the documentation here:\n",
      "https://pandas.pydata.org/pandas-docs/stable/indexing.html#deprecate-loc-reindex-listlike\n",
      "/usr/local/lib/python3.6/site-packages/matplotlib/colors.py:478: UserWarning: Warning: converting a masked element to nan.\n",
      "  xa = np.array([X])\n",
      "/usr/local/lib/python3.6/site-packages/matplotlib/colors.py:478: UserWarning: Warning: converting a masked element to nan.\n",
      "  xa = np.array([X])\n",
      "/usr/local/lib/python3.6/site-packages/matplotlib/colors.py:478: UserWarning: Warning: converting a masked element to nan.\n",
      "  xa = np.array([X])\n",
      "/usr/local/lib/python3.6/site-packages/matplotlib/colors.py:478: UserWarning: Warning: converting a masked element to nan.\n",
      "  xa = np.array([X])\n",
      "/usr/local/lib/python3.6/site-packages/matplotlib/colors.py:478: UserWarning: Warning: converting a masked element to nan.\n",
      "  xa = np.array([X])\n",
      "/usr/local/lib/python3.6/site-packages/matplotlib/colors.py:478: UserWarning: Warning: converting a masked element to nan.\n",
      "  xa = np.array([X])\n"
     ]
    },
    {
     "data": {
      "image/png": "[encoded data removed]",
      "text/plain": [
       "<Figure size 288x158.4 with 2 Axes>"
      ]
     },
     "metadata": {
      "needs_background": "light"
     },
     "output_type": "display_data"
    }
   ],
   "source": [
    "for name in ['Achilles', 'Score', 'RNAi']:\n",
    "    print(name)\n",
    "    x = read_hdf5(join(figshare, name + 'Features.hdf5'))['PARD6B (84612)_Exp'].dropna()\n",
    "    gene = 'PARD6B (84612)'\n",
    "    y = main[name]['y'][gene].dropna()\n",
    "    shared = sorted(set(x.index) & set(y.index))\n",
    "    sub = lineages.loc[shared, 'lineage'].loc[lambda x: x.isin(['ovary', 'pancreas'])].index\n",
    "    print('\\tPARD6B exp and %s dep' % gene.split(' ')[0], \n",
    "          pearsonr(x.loc[shared], y.loc[shared]), len(shared))\n",
    "    print('\\tPARD6B exp and %s dep in OV and PANC' % gene.split(' ')[0], \n",
    "          pearsonr(x.loc[sub], y.loc[sub]), len(sub))\n",
    "    \n",
    "    plt.close('all')\n",
    "    plt.figure(figsize=(4, 2.2))\n",
    "    binplot(x.loc[shared], y.loc[shared])\n",
    "    plt.xticks(rotation=90)\n",
    "    plt.xlabel(\"PARD6B Expression\")\n",
    "    plt.ylabel(\"%s Gene Effect\" % gene.split(' ')[0])\n",
    "    sns.despine(top=True, right=True)\n",
    "    plt.tight_layout()\n",
    "    plt.savefig(join('figures', 'interpretable_models', name, '%s.png' % (gene.split(' ')[0])),\n",
    "                dpi=600)\n",
    "    \n",
    "    plt.close('all')\n",
    "    plt.figure(figsize=(4, 2.2))\n",
    "    binplot(x.loc[sub], y.loc[sub])\n",
    "    plt.xticks(rotation=90)\n",
    "    plt.xlabel(\"PARD6B Expression\")\n",
    "    plt.ylabel(\"%s Gene Effect\" % gene.split(' ')[0])\n",
    "    sns.despine(top=True, right=True)\n",
    "    plt.tight_layout()\n",
    "    plt.savefig(join('figures', 'interpretable_models', name, '%s_OVPANC.png' % (gene.split(' ')[0])),\n",
    "                dpi=600)"
   ]
  },
  {
   "cell_type": "markdown",
   "metadata": {},
   "source": [
    "# Discussion: CFE enrichment for Sanger drugs"
   ]
  },
  {
   "cell_type": "code",
   "execution_count": 117,
   "metadata": {},
   "outputs": [],
   "source": [
    "# You will need supplementary table 2 from Iorio et. al. 2016: \n",
    "# https://doi.org/10.1016/j.cell.2016.06.017\n",
    "cfe_cancer_genes = pd.read_csv('S2 - CFEs - cancer genes.csv', skiprows=1)"
   ]
  },
  {
   "cell_type": "code",
   "execution_count": 118,
   "metadata": {},
   "outputs": [],
   "source": [
    "cfe_cancer_gene_set = set(cfe_cancer_genes['Gene'])"
   ]
  },
  {
   "cell_type": "code",
   "execution_count": 119,
   "metadata": {},
   "outputs": [],
   "source": [
    "drug_target_in_cfe = main['GDSC17']['pert_info'].apply(lambda x:\n",
    "                                                      len(set([v.strip() for v in x['target'].split(',')])\n",
    "                                                          & cfe_cancer_gene_set) > 0\n",
    "                                                       , axis=1)"
   ]
  },
  {
   "cell_type": "code",
   "execution_count": 120,
   "metadata": {},
   "outputs": [
    {
     "data": {
      "text/plain": [
       "0.2037735849056604"
      ]
     },
     "execution_count": 120,
     "metadata": {},
     "output_type": "execute_result"
    }
   ],
   "source": [
    "drug_target_in_cfe.mean()"
   ]
  },
  {
   "cell_type": "code",
   "execution_count": 121,
   "metadata": {},
   "outputs": [
    {
     "data": {
      "text/plain": [
       "54"
      ]
     },
     "execution_count": 121,
     "metadata": {},
     "output_type": "execute_result"
    }
   ],
   "source": [
    "drug_target_in_cfe.sum()"
   ]
  },
  {
   "cell_type": "code",
   "execution_count": 122,
   "metadata": {},
   "outputs": [
    {
     "data": {
      "text/plain": [
       "472"
      ]
     },
     "execution_count": 122,
     "metadata": {},
     "output_type": "execute_result"
    }
   ],
   "source": [
    "len(cfe_cancer_gene_set)"
   ]
  },
  {
   "cell_type": "code",
   "execution_count": null,
   "metadata": {},
   "outputs": [],
   "source": []
  }
 ],
 "metadata": {
  "kernelspec": {
   "display_name": "Python 3",
   "language": "python",
   "name": "python3"
  },
  "language_info": {
   "codemirror_mode": {
    "name": "ipython",
    "version": 3
   },
   "file_extension": ".py",
   "mimetype": "text/x-python",
   "name": "python",
   "nbconvert_exporter": "python",
   "pygments_lexer": "ipython3",
   "version": "3.6.5"
  },
  "toc": {
   "base_numbering": 1,
   "nav_menu": {},
   "number_sections": true,
   "sideBar": true,
   "skip_h1_title": false,
   "title_cell": "Table of Contents",
   "title_sidebar": "Contents",
   "toc_cell": false,
   "toc_position": {
    "height": "calc(100% - 180px)",
    "left": "10px",
    "top": "150px",
    "width": "360px"
   },
   "toc_section_display": true,
   "toc_window_display": true
  }
 },
 "nbformat": 4,
 "nbformat_minor": 2
}
